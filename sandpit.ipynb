{
 "cells": [
  {
   "cell_type": "markdown",
   "id": "60a5b1ec-8e29-41d0-b600-1ff0c208767f",
   "metadata": {},
   "source": [
    "# Play-space for `intake_dataframe_catalog"
   ]
  },
  {
   "cell_type": "code",
   "execution_count": 1,
   "id": "c8386acd-8c3c-4ced-b9a7-a56a3b118229",
   "metadata": {
    "tags": []
   },
   "outputs": [
    {
     "name": "stdout",
     "output_type": "stream",
     "text": [
      "/g/data/tm70/ds0092/software/intake-dataframe-catalog\n"
     ]
    }
   ],
   "source": [
    "%cd /g/data/tm70/ds0092/software/intake-dataframe-catalog"
   ]
  },
  {
   "cell_type": "code",
   "execution_count": 2,
   "id": "d6a58fa5-cb39-4267-b58a-171af6cb92de",
   "metadata": {
    "tags": []
   },
   "outputs": [],
   "source": [
    "import intake"
   ]
  },
  {
   "cell_type": "markdown",
   "id": "e8bbf3da-cb99-437b-8bdb-e2603e0b0b6c",
   "metadata": {},
   "source": [
    "## Create a DF Catalog using `add`"
   ]
  },
  {
   "cell_type": "code",
   "execution_count": 3,
   "id": "56247cf4-842b-4b16-a2e1-dcc6482afd6f",
   "metadata": {
    "tags": []
   },
   "outputs": [],
   "source": [
    "from intake_dataframe_catalog.core import DFCatalogModel"
   ]
  },
  {
   "cell_type": "code",
   "execution_count": 4,
   "id": "8caaa317-10cc-491c-b066-74ad6428f6a6",
   "metadata": {
    "tags": []
   },
   "outputs": [],
   "source": [
    "dfcat = DFCatalogModel(metadata_columns=[\"meta\"])"
   ]
  },
  {
   "cell_type": "code",
   "execution_count": 5,
   "id": "29f9b721-cecf-4074-9eab-5db3c3e72433",
   "metadata": {
    "tags": []
   },
   "outputs": [],
   "source": [
    "cat = intake.open_csv(\"test.csv\")"
   ]
  },
  {
   "cell_type": "code",
   "execution_count": 6,
   "id": "34910241-71b0-4309-a2e4-45e4e2b86de5",
   "metadata": {
    "tags": []
   },
   "outputs": [],
   "source": [
    "for i in range(3):\n",
    "    cat.name = f\"csv{i}\"\n",
    "    dfcat.add(cat, metadata={\"meta\": i})"
   ]
  },
  {
   "cell_type": "code",
   "execution_count": 7,
   "id": "31e2fe16-8f95-4209-923c-14695e267e86",
   "metadata": {
    "tags": []
   },
   "outputs": [],
   "source": [
    "dfcat.save(\"dfcat\")"
   ]
  },
  {
   "cell_type": "code",
   "execution_count": 8,
   "id": "44ed2dbc-df30-41e1-a78b-a1cd6a569814",
   "metadata": {
    "tags": []
   },
   "outputs": [
    {
     "data": {
      "text/html": [
       "<div>\n",
       "<style scoped>\n",
       "    .dataframe tbody tr th:only-of-type {\n",
       "        vertical-align: middle;\n",
       "    }\n",
       "\n",
       "    .dataframe tbody tr th {\n",
       "        vertical-align: top;\n",
       "    }\n",
       "\n",
       "    .dataframe thead th {\n",
       "        text-align: right;\n",
       "    }\n",
       "</style>\n",
       "<table border=\"1\" class=\"dataframe\">\n",
       "  <thead>\n",
       "    <tr style=\"text-align: right;\">\n",
       "      <th></th>\n",
       "      <th>name</th>\n",
       "      <th>meta</th>\n",
       "      <th>yaml</th>\n",
       "    </tr>\n",
       "  </thead>\n",
       "  <tbody>\n",
       "    <tr>\n",
       "      <th>0</th>\n",
       "      <td>csv0</td>\n",
       "      <td>0</td>\n",
       "      <td>sources:\\n  csv0:\\n    args:\\n      urlpath: t...</td>\n",
       "    </tr>\n",
       "    <tr>\n",
       "      <th>1</th>\n",
       "      <td>csv1</td>\n",
       "      <td>1</td>\n",
       "      <td>sources:\\n  csv1:\\n    args:\\n      urlpath: t...</td>\n",
       "    </tr>\n",
       "  </tbody>\n",
       "</table>\n",
       "</div>"
      ],
      "text/plain": [
       "   name meta                                               yaml\n",
       "0  csv0    0  sources:\\n  csv0:\\n    args:\\n      urlpath: t...\n",
       "1  csv1    1  sources:\\n  csv1:\\n    args:\\n      urlpath: t..."
      ]
     },
     "execution_count": 8,
     "metadata": {},
     "output_type": "execute_result"
    }
   ],
   "source": [
    "dfcat.search(meta=[0, 1])"
   ]
  },
  {
   "cell_type": "markdown",
   "id": "114c52c2-3a90-412d-8d90-ac6be3df3a90",
   "metadata": {},
   "source": [
    "## Create a DF Catalog directly from a dict"
   ]
  },
  {
   "cell_type": "code",
   "execution_count": 9,
   "id": "e18b3942-e8d7-4ec4-834c-a2300e5f9b44",
   "metadata": {
    "tags": []
   },
   "outputs": [],
   "source": [
    "entries = []\n",
    "for i in range(3):\n",
    "    cat.name = f\"csv{i}\"\n",
    "    entries.append({\"cat\": cat, \"meta\": i})"
   ]
  },
  {
   "cell_type": "code",
   "execution_count": 10,
   "id": "fd58b9d3-d57f-4318-8e96-b516132fa1da",
   "metadata": {
    "tags": []
   },
   "outputs": [],
   "source": [
    "dfcat = DFCatalogModel.from_dict(entries, cat_key=\"cat\")"
   ]
  },
  {
   "cell_type": "code",
   "execution_count": 11,
   "id": "1f2c1c10-c7e8-4591-b19f-60dab3be2d47",
   "metadata": {
    "tags": []
   },
   "outputs": [
    {
     "data": {
      "text/html": [
       "<div>\n",
       "<style scoped>\n",
       "    .dataframe tbody tr th:only-of-type {\n",
       "        vertical-align: middle;\n",
       "    }\n",
       "\n",
       "    .dataframe tbody tr th {\n",
       "        vertical-align: top;\n",
       "    }\n",
       "\n",
       "    .dataframe thead th {\n",
       "        text-align: right;\n",
       "    }\n",
       "</style>\n",
       "<table border=\"1\" class=\"dataframe\">\n",
       "  <thead>\n",
       "    <tr style=\"text-align: right;\">\n",
       "      <th></th>\n",
       "      <th>name</th>\n",
       "      <th>meta</th>\n",
       "      <th>yaml</th>\n",
       "    </tr>\n",
       "  </thead>\n",
       "  <tbody>\n",
       "    <tr>\n",
       "      <th>0</th>\n",
       "      <td>csv2</td>\n",
       "      <td>0</td>\n",
       "      <td>sources:\\n  csv2:\\n    args:\\n      urlpath: t...</td>\n",
       "    </tr>\n",
       "    <tr>\n",
       "      <th>1</th>\n",
       "      <td>csv2</td>\n",
       "      <td>1</td>\n",
       "      <td>sources:\\n  csv2:\\n    args:\\n      urlpath: t...</td>\n",
       "    </tr>\n",
       "    <tr>\n",
       "      <th>2</th>\n",
       "      <td>csv2</td>\n",
       "      <td>2</td>\n",
       "      <td>sources:\\n  csv2:\\n    args:\\n      urlpath: t...</td>\n",
       "    </tr>\n",
       "  </tbody>\n",
       "</table>\n",
       "</div>"
      ],
      "text/plain": [
       "   name meta                                               yaml\n",
       "0  csv2    0  sources:\\n  csv2:\\n    args:\\n      urlpath: t...\n",
       "1  csv2    1  sources:\\n  csv2:\\n    args:\\n      urlpath: t...\n",
       "2  csv2    2  sources:\\n  csv2:\\n    args:\\n      urlpath: t..."
      ]
     },
     "execution_count": 11,
     "metadata": {},
     "output_type": "execute_result"
    }
   ],
   "source": [
    "dfcat.df"
   ]
  },
  {
   "cell_type": "markdown",
   "id": "879ddac2-7b9f-4928-b1f4-0d25cb6f42f6",
   "metadata": {},
   "source": [
    "## Use the DF Catalog"
   ]
  },
  {
   "cell_type": "code",
   "execution_count": 12,
   "id": "7a1acd2c-cbd3-4900-8db7-75488b9ca5c1",
   "metadata": {
    "tags": []
   },
   "outputs": [],
   "source": [
    "dfcat = intake.open_df_catalog(\"dfcat.csv\")"
   ]
  },
  {
   "cell_type": "code",
   "execution_count": 13,
   "id": "0bcb49b5-b162-4f27-9e74-66790a15c4df",
   "metadata": {
    "tags": []
   },
   "outputs": [
    {
     "data": {
      "text/html": [
       "<div>\n",
       "<style scoped>\n",
       "    .dataframe tbody tr th:only-of-type {\n",
       "        vertical-align: middle;\n",
       "    }\n",
       "\n",
       "    .dataframe tbody tr th {\n",
       "        vertical-align: top;\n",
       "    }\n",
       "\n",
       "    .dataframe thead th {\n",
       "        text-align: right;\n",
       "    }\n",
       "</style>\n",
       "<table border=\"1\" class=\"dataframe\">\n",
       "  <thead>\n",
       "    <tr style=\"text-align: right;\">\n",
       "      <th></th>\n",
       "      <th>name</th>\n",
       "      <th>meta</th>\n",
       "      <th>yaml</th>\n",
       "    </tr>\n",
       "  </thead>\n",
       "  <tbody>\n",
       "    <tr>\n",
       "      <th>0</th>\n",
       "      <td>csv0</td>\n",
       "      <td>0</td>\n",
       "      <td>sources:\\n  csv0:\\n    args:\\n      urlpath: t...</td>\n",
       "    </tr>\n",
       "    <tr>\n",
       "      <th>1</th>\n",
       "      <td>csv1</td>\n",
       "      <td>1</td>\n",
       "      <td>sources:\\n  csv1:\\n    args:\\n      urlpath: t...</td>\n",
       "    </tr>\n",
       "    <tr>\n",
       "      <th>2</th>\n",
       "      <td>csv2</td>\n",
       "      <td>2</td>\n",
       "      <td>sources:\\n  csv2:\\n    args:\\n      urlpath: t...</td>\n",
       "    </tr>\n",
       "  </tbody>\n",
       "</table>\n",
       "</div>"
      ],
      "text/plain": [
       "   name  meta                                               yaml\n",
       "0  csv0     0  sources:\\n  csv0:\\n    args:\\n      urlpath: t...\n",
       "1  csv1     1  sources:\\n  csv1:\\n    args:\\n      urlpath: t...\n",
       "2  csv2     2  sources:\\n  csv2:\\n    args:\\n      urlpath: t..."
      ]
     },
     "execution_count": 13,
     "metadata": {},
     "output_type": "execute_result"
    }
   ],
   "source": [
    "dfcat.df"
   ]
  },
  {
   "cell_type": "code",
   "execution_count": 14,
   "id": "44cf1b6d-d289-4d5e-b26a-24399fa80bb3",
   "metadata": {
    "tags": []
   },
   "outputs": [
    {
     "data": {
      "application/yaml": "csv0:\n  args:\n    urlpath: test.csv\n  description: ''\n  driver: intake.source.csv.CSVSource\n  metadata:\n    catalog_dir: ''\n",
      "text/plain": [
       "csv0:\n",
       "  args:\n",
       "    urlpath: test.csv\n",
       "  description: ''\n",
       "  driver: intake.source.csv.CSVSource\n",
       "  metadata:\n",
       "    catalog_dir: ''\n"
      ]
     },
     "metadata": {
      "application/json": {
       "root": "csv0"
      }
     },
     "output_type": "display_data"
    }
   ],
   "source": [
    "subcat = dfcat[\"csv0\"]\n",
    "subcat"
   ]
  },
  {
   "cell_type": "code",
   "execution_count": 15,
   "id": "c1841af8-5efb-4df5-a393-f5f0ed24c43d",
   "metadata": {
    "tags": []
   },
   "outputs": [
    {
     "data": {
      "text/html": [
       "<div>\n",
       "<style scoped>\n",
       "    .dataframe tbody tr th:only-of-type {\n",
       "        vertical-align: middle;\n",
       "    }\n",
       "\n",
       "    .dataframe tbody tr th {\n",
       "        vertical-align: top;\n",
       "    }\n",
       "\n",
       "    .dataframe thead th {\n",
       "        text-align: right;\n",
       "    }\n",
       "</style>\n",
       "<table border=\"1\" class=\"dataframe\">\n",
       "  <thead>\n",
       "    <tr style=\"text-align: right;\">\n",
       "      <th></th>\n",
       "      <th>first_name</th>\n",
       "      <th>last_name</th>\n",
       "    </tr>\n",
       "  </thead>\n",
       "  <tbody>\n",
       "    <tr>\n",
       "      <th>0</th>\n",
       "      <td>joe</td>\n",
       "      <td>blogs</td>\n",
       "    </tr>\n",
       "    <tr>\n",
       "      <th>1</th>\n",
       "      <td>jane</td>\n",
       "      <td>doe</td>\n",
       "    </tr>\n",
       "  </tbody>\n",
       "</table>\n",
       "</div>"
      ],
      "text/plain": [
       "  first_name  last_name\n",
       "0        joe      blogs\n",
       "1       jane        doe"
      ]
     },
     "execution_count": 15,
     "metadata": {},
     "output_type": "execute_result"
    }
   ],
   "source": [
    "subcat.read()"
   ]
  },
  {
   "cell_type": "code",
   "execution_count": 16,
   "id": "101eee4b-cbab-479a-884d-315383df6837",
   "metadata": {
    "tags": []
   },
   "outputs": [
    {
     "data": {
      "text/html": [
       "<div>\n",
       "<style scoped>\n",
       "    .dataframe tbody tr th:only-of-type {\n",
       "        vertical-align: middle;\n",
       "    }\n",
       "\n",
       "    .dataframe tbody tr th {\n",
       "        vertical-align: top;\n",
       "    }\n",
       "\n",
       "    .dataframe thead th {\n",
       "        text-align: right;\n",
       "    }\n",
       "</style>\n",
       "<table border=\"1\" class=\"dataframe\">\n",
       "  <thead>\n",
       "    <tr style=\"text-align: right;\">\n",
       "      <th></th>\n",
       "      <th>first_name</th>\n",
       "      <th>last_name</th>\n",
       "      <th>path</th>\n",
       "    </tr>\n",
       "  </thead>\n",
       "  <tbody>\n",
       "    <tr>\n",
       "      <th>0</th>\n",
       "      <td>joe</td>\n",
       "      <td>blogs</td>\n",
       "      <td>/g/data/tm70/ds0092/software/intake-dataframe-...</td>\n",
       "    </tr>\n",
       "    <tr>\n",
       "      <th>1</th>\n",
       "      <td>jane</td>\n",
       "      <td>doe</td>\n",
       "      <td>/g/data/tm70/ds0092/software/intake-dataframe-...</td>\n",
       "    </tr>\n",
       "  </tbody>\n",
       "</table>\n",
       "</div>"
      ],
      "text/plain": [
       "  first_name  last_name                                               path\n",
       "0        joe      blogs  /g/data/tm70/ds0092/software/intake-dataframe-...\n",
       "1       jane        doe  /g/data/tm70/ds0092/software/intake-dataframe-..."
      ]
     },
     "execution_count": 16,
     "metadata": {},
     "output_type": "execute_result"
    }
   ],
   "source": [
    "dfcat[\"csv0\"](csv_kwargs={\"include_path_column\":True}).read()"
   ]
  },
  {
   "cell_type": "code",
   "execution_count": 17,
   "id": "c8efc296-a86b-4d57-9ad3-ad28b9b206bc",
   "metadata": {
    "tags": []
   },
   "outputs": [],
   "source": [
    "dfcat.serialize(\"dfcat2\")"
   ]
  },
  {
   "cell_type": "markdown",
   "id": "4212cd30-d71a-4c21-8e2a-34f6b08efb1c",
   "metadata": {},
   "source": [
    "## Write to a yaml"
   ]
  },
  {
   "cell_type": "code",
   "execution_count": 20,
   "id": "1a9c0789-1edf-447b-b8fa-ff794bcd6095",
   "metadata": {
    "tags": []
   },
   "outputs": [
    {
     "name": "stdout",
     "output_type": "stream",
     "text": [
      "sources:\n",
      "  dfcat:\n",
      "    args:\n",
      "      path: dfcat.csv\n",
      "    description: ''\n",
      "    driver: intake_dataframe_catalog.core.DFFileCatalog\n",
      "    metadata: {}\n",
      "\n"
     ]
    }
   ],
   "source": [
    "dfcat.name = \"dfcat\"\n",
    "yaml_text = dfcat.yaml()\n",
    "print(yaml_text)\n",
    "with open(\"./dfcat.yaml\", mode=\"wt\") as f:\n",
    "    f.write(yaml_text)"
   ]
  },
  {
   "cell_type": "code",
   "execution_count": 22,
   "id": "a6bed711-c0d8-4f91-87b0-8587e55a1295",
   "metadata": {
    "tags": []
   },
   "outputs": [],
   "source": [
    "cat = intake.open_catalog(\"dfcat.yaml\")"
   ]
  },
  {
   "cell_type": "code",
   "execution_count": 25,
   "id": "ad9460b3-8073-4728-8cfa-6e951e52a56d",
   "metadata": {
    "tags": []
   },
   "outputs": [
    {
     "data": {
      "text/html": [
       "<div>\n",
       "<style scoped>\n",
       "    .dataframe tbody tr th:only-of-type {\n",
       "        vertical-align: middle;\n",
       "    }\n",
       "\n",
       "    .dataframe tbody tr th {\n",
       "        vertical-align: top;\n",
       "    }\n",
       "\n",
       "    .dataframe thead th {\n",
       "        text-align: right;\n",
       "    }\n",
       "</style>\n",
       "<table border=\"1\" class=\"dataframe\">\n",
       "  <thead>\n",
       "    <tr style=\"text-align: right;\">\n",
       "      <th></th>\n",
       "      <th>name</th>\n",
       "      <th>meta</th>\n",
       "      <th>yaml</th>\n",
       "    </tr>\n",
       "  </thead>\n",
       "  <tbody>\n",
       "    <tr>\n",
       "      <th>0</th>\n",
       "      <td>csv0</td>\n",
       "      <td>0</td>\n",
       "      <td>sources:\\n  csv0:\\n    args:\\n      urlpath: t...</td>\n",
       "    </tr>\n",
       "    <tr>\n",
       "      <th>1</th>\n",
       "      <td>csv1</td>\n",
       "      <td>1</td>\n",
       "      <td>sources:\\n  csv1:\\n    args:\\n      urlpath: t...</td>\n",
       "    </tr>\n",
       "    <tr>\n",
       "      <th>2</th>\n",
       "      <td>csv2</td>\n",
       "      <td>2</td>\n",
       "      <td>sources:\\n  csv2:\\n    args:\\n      urlpath: t...</td>\n",
       "    </tr>\n",
       "  </tbody>\n",
       "</table>\n",
       "</div>"
      ],
      "text/plain": [
       "   name  meta                                               yaml\n",
       "0  csv0     0  sources:\\n  csv0:\\n    args:\\n      urlpath: t...\n",
       "1  csv1     1  sources:\\n  csv1:\\n    args:\\n      urlpath: t...\n",
       "2  csv2     2  sources:\\n  csv2:\\n    args:\\n      urlpath: t..."
      ]
     },
     "execution_count": 25,
     "metadata": {},
     "output_type": "execute_result"
    }
   ],
   "source": [
    "cat.dfcat.df"
   ]
  },
  {
   "cell_type": "code",
   "execution_count": null,
   "id": "2a47a389-d0f4-40f4-bfb9-d72db4fe3819",
   "metadata": {},
   "outputs": [],
   "source": []
  }
 ],
 "metadata": {
  "kernelspec": {
   "display_name": "Python (intake-df-cat-dev)",
   "language": "python",
   "name": "intake-df-cat-dev"
  },
  "language_info": {
   "codemirror_mode": {
    "name": "ipython",
    "version": 3
   },
   "file_extension": ".py",
   "mimetype": "text/x-python",
   "name": "python",
   "nbconvert_exporter": "python",
   "pygments_lexer": "ipython3",
   "version": "3.11.0"
  }
 },
 "nbformat": 4,
 "nbformat_minor": 5
}
