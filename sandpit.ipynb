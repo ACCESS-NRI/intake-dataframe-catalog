{
 "cells": [
  {
   "cell_type": "markdown",
   "id": "60a5b1ec-8e29-41d0-b600-1ff0c208767f",
   "metadata": {},
   "source": [
    "# Play-space for `intake_dataframe_catalog"
   ]
  },
  {
   "cell_type": "code",
   "execution_count": 1,
   "id": "d6a58fa5-cb39-4267-b58a-171af6cb92de",
   "metadata": {},
   "outputs": [],
   "source": [
    "import intake"
   ]
  },
  {
   "cell_type": "markdown",
   "id": "e8bbf3da-cb99-437b-8bdb-e2603e0b0b6c",
   "metadata": {},
   "source": [
    "## Create a DF Catalog"
   ]
  },
  {
   "cell_type": "code",
   "execution_count": 2,
   "id": "56247cf4-842b-4b16-a2e1-dcc6482afd6f",
   "metadata": {},
   "outputs": [],
   "source": [
    "from intake_dataframe_catalog.core import DFCatalogModel"
   ]
  },
  {
   "cell_type": "code",
   "execution_count": 3,
   "id": "8caaa317-10cc-491c-b066-74ad6428f6a6",
   "metadata": {},
   "outputs": [],
   "source": [
    "dfcat = DFCatalogModel(metadata_columns=[\"meta\"])"
   ]
  },
  {
   "cell_type": "code",
   "execution_count": 4,
   "id": "29f9b721-cecf-4074-9eab-5db3c3e72433",
   "metadata": {},
   "outputs": [],
   "source": [
    "cat = intake.open_csv(\"test.csv\")"
   ]
  },
  {
   "cell_type": "code",
   "execution_count": 5,
   "id": "34910241-71b0-4309-a2e4-45e4e2b86de5",
   "metadata": {},
   "outputs": [],
   "source": [
    "for i in range(3):\n",
    "    cat.name = f\"csv{i}\"\n",
    "    dfcat.add(cat, metadata={\"meta\": i})"
   ]
  },
  {
   "cell_type": "code",
   "execution_count": 6,
   "id": "31e2fe16-8f95-4209-923c-14695e267e86",
   "metadata": {},
   "outputs": [],
   "source": [
    "dfcat.save(\"dfcat\")"
   ]
  },
  {
   "cell_type": "markdown",
   "id": "879ddac2-7b9f-4928-b1f4-0d25cb6f42f6",
   "metadata": {},
   "source": [
    "## Use the DF Catalog"
   ]
  },
  {
   "cell_type": "code",
   "execution_count": 7,
   "id": "7a1acd2c-cbd3-4900-8db7-75488b9ca5c1",
   "metadata": {},
   "outputs": [],
   "source": [
    "dfcat = intake.open_df_catalog(\"dfcat.csv\")"
   ]
  },
  {
   "cell_type": "code",
   "execution_count": 8,
   "id": "0bcb49b5-b162-4f27-9e74-66790a15c4df",
   "metadata": {},
   "outputs": [
    {
     "data": {
      "text/html": [
       "<div>\n",
       "<style scoped>\n",
       "    .dataframe tbody tr th:only-of-type {\n",
       "        vertical-align: middle;\n",
       "    }\n",
       "\n",
       "    .dataframe tbody tr th {\n",
       "        vertical-align: top;\n",
       "    }\n",
       "\n",
       "    .dataframe thead th {\n",
       "        text-align: right;\n",
       "    }\n",
       "</style>\n",
       "<table border=\"1\" class=\"dataframe\">\n",
       "  <thead>\n",
       "    <tr style=\"text-align: right;\">\n",
       "      <th></th>\n",
       "      <th>name</th>\n",
       "      <th>meta</th>\n",
       "      <th>yaml</th>\n",
       "    </tr>\n",
       "  </thead>\n",
       "  <tbody>\n",
       "    <tr>\n",
       "      <th>0</th>\n",
       "      <td>csv0</td>\n",
       "      <td>0</td>\n",
       "      <td>sources:\\n  csv0:\\n    args:\\n      urlpath: t...</td>\n",
       "    </tr>\n",
       "    <tr>\n",
       "      <th>1</th>\n",
       "      <td>csv1</td>\n",
       "      <td>1</td>\n",
       "      <td>sources:\\n  csv1:\\n    args:\\n      urlpath: t...</td>\n",
       "    </tr>\n",
       "    <tr>\n",
       "      <th>2</th>\n",
       "      <td>csv2</td>\n",
       "      <td>2</td>\n",
       "      <td>sources:\\n  csv2:\\n    args:\\n      urlpath: t...</td>\n",
       "    </tr>\n",
       "  </tbody>\n",
       "</table>\n",
       "</div>"
      ],
      "text/plain": [
       "   name  meta                                               yaml\n",
       "0  csv0     0  sources:\\n  csv0:\\n    args:\\n      urlpath: t...\n",
       "1  csv1     1  sources:\\n  csv1:\\n    args:\\n      urlpath: t...\n",
       "2  csv2     2  sources:\\n  csv2:\\n    args:\\n      urlpath: t..."
      ]
     },
     "execution_count": 8,
     "metadata": {},
     "output_type": "execute_result"
    }
   ],
   "source": [
    "dfcat.df"
   ]
  },
  {
   "cell_type": "code",
   "execution_count": 10,
   "id": "44cf1b6d-d289-4d5e-b26a-24399fa80bb3",
   "metadata": {},
   "outputs": [
    {
     "data": {
      "application/yaml": "csv0:\n  args:\n    urlpath: test.csv\n  description: ''\n  driver: intake.source.csv.CSVSource\n  metadata:\n    catalog_dir: ''\n",
      "text/plain": [
       "csv0:\n",
       "  args:\n",
       "    urlpath: test.csv\n",
       "  description: ''\n",
       "  driver: intake.source.csv.CSVSource\n",
       "  metadata:\n",
       "    catalog_dir: ''\n"
      ]
     },
     "metadata": {
      "application/json": {
       "root": "csv0"
      }
     },
     "output_type": "display_data"
    }
   ],
   "source": [
    "subcat = dfcat[\"csv0\"]\n",
    "subcat"
   ]
  },
  {
   "cell_type": "code",
   "execution_count": 20,
   "id": "c1841af8-5efb-4df5-a393-f5f0ed24c43d",
   "metadata": {},
   "outputs": [
    {
     "data": {
      "text/html": [
       "<div>\n",
       "<style scoped>\n",
       "    .dataframe tbody tr th:only-of-type {\n",
       "        vertical-align: middle;\n",
       "    }\n",
       "\n",
       "    .dataframe tbody tr th {\n",
       "        vertical-align: top;\n",
       "    }\n",
       "\n",
       "    .dataframe thead th {\n",
       "        text-align: right;\n",
       "    }\n",
       "</style>\n",
       "<table border=\"1\" class=\"dataframe\">\n",
       "  <thead>\n",
       "    <tr style=\"text-align: right;\">\n",
       "      <th></th>\n",
       "      <th>first_name</th>\n",
       "      <th>last_name</th>\n",
       "    </tr>\n",
       "  </thead>\n",
       "  <tbody>\n",
       "    <tr>\n",
       "      <th>0</th>\n",
       "      <td>joe</td>\n",
       "      <td>blogs</td>\n",
       "    </tr>\n",
       "    <tr>\n",
       "      <th>1</th>\n",
       "      <td>jane</td>\n",
       "      <td>doe</td>\n",
       "    </tr>\n",
       "  </tbody>\n",
       "</table>\n",
       "</div>"
      ],
      "text/plain": [
       "  first_name  last_name\n",
       "0        joe      blogs\n",
       "1       jane        doe"
      ]
     },
     "execution_count": 20,
     "metadata": {},
     "output_type": "execute_result"
    }
   ],
   "source": [
    "subcat.read()"
   ]
  },
  {
   "cell_type": "code",
   "execution_count": 19,
   "id": "101eee4b-cbab-479a-884d-315383df6837",
   "metadata": {},
   "outputs": [
    {
     "data": {
      "text/html": [
       "<div>\n",
       "<style scoped>\n",
       "    .dataframe tbody tr th:only-of-type {\n",
       "        vertical-align: middle;\n",
       "    }\n",
       "\n",
       "    .dataframe tbody tr th {\n",
       "        vertical-align: top;\n",
       "    }\n",
       "\n",
       "    .dataframe thead th {\n",
       "        text-align: right;\n",
       "    }\n",
       "</style>\n",
       "<table border=\"1\" class=\"dataframe\">\n",
       "  <thead>\n",
       "    <tr style=\"text-align: right;\">\n",
       "      <th></th>\n",
       "      <th>first_name</th>\n",
       "      <th>last_name</th>\n",
       "      <th>path</th>\n",
       "    </tr>\n",
       "  </thead>\n",
       "  <tbody>\n",
       "    <tr>\n",
       "      <th>0</th>\n",
       "      <td>joe</td>\n",
       "      <td>blogs</td>\n",
       "      <td>/Users/squ027/Documents/work/active_projects/i...</td>\n",
       "    </tr>\n",
       "    <tr>\n",
       "      <th>1</th>\n",
       "      <td>jane</td>\n",
       "      <td>doe</td>\n",
       "      <td>/Users/squ027/Documents/work/active_projects/i...</td>\n",
       "    </tr>\n",
       "  </tbody>\n",
       "</table>\n",
       "</div>"
      ],
      "text/plain": [
       "  first_name  last_name                                               path\n",
       "0        joe      blogs  /Users/squ027/Documents/work/active_projects/i...\n",
       "1       jane        doe  /Users/squ027/Documents/work/active_projects/i..."
      ]
     },
     "execution_count": 19,
     "metadata": {},
     "output_type": "execute_result"
    }
   ],
   "source": [
    "dfcat[\"csv0\"](csv_kwargs={\"include_path_column\":True}).read()"
   ]
  }
 ],
 "metadata": {
  "kernelspec": {
   "display_name": "Python 3 (ipykernel)",
   "language": "python",
   "name": "python3"
  },
  "language_info": {
   "codemirror_mode": {
    "name": "ipython",
    "version": 3
   },
   "file_extension": ".py",
   "mimetype": "text/x-python",
   "name": "python",
   "nbconvert_exporter": "python",
   "pygments_lexer": "ipython3",
   "version": "3.11.0"
  }
 },
 "nbformat": 4,
 "nbformat_minor": 5
}
