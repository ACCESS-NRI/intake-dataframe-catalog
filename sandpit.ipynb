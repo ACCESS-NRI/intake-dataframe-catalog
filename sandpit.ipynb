{
 "cells": [
  {
   "cell_type": "markdown",
   "id": "60a5b1ec-8e29-41d0-b600-1ff0c208767f",
   "metadata": {},
   "source": [
    "# Play-space for `intake_dataframe_catalog`"
   ]
  },
  {
   "cell_type": "code",
   "execution_count": 1,
   "id": "c8386acd-8c3c-4ced-b9a7-a56a3b118229",
   "metadata": {
    "tags": []
   },
   "outputs": [
    {
     "name": "stdout",
     "output_type": "stream",
     "text": [
      "/g/data/tm70/ds0092/software/intake-dataframe-catalog\n"
     ]
    }
   ],
   "source": [
    "%cd /g/data/tm70/ds0092/software/intake-dataframe-catalog"
   ]
  },
  {
   "cell_type": "code",
   "execution_count": 2,
   "id": "d6a58fa5-cb39-4267-b58a-171af6cb92de",
   "metadata": {
    "tags": []
   },
   "outputs": [],
   "source": [
    "import intake"
   ]
  },
  {
   "cell_type": "markdown",
   "id": "e8bbf3da-cb99-437b-8bdb-e2603e0b0b6c",
   "metadata": {},
   "source": [
    "## Create a DF Catalog using `add`"
   ]
  },
  {
   "cell_type": "code",
   "execution_count": 3,
   "id": "56247cf4-842b-4b16-a2e1-dcc6482afd6f",
   "metadata": {
    "tags": []
   },
   "outputs": [],
   "source": [
    "from intake_dataframe_catalog.core import DFCatalogModel"
   ]
  },
  {
   "cell_type": "code",
   "execution_count": 4,
   "id": "8caaa317-10cc-491c-b066-74ad6428f6a6",
   "metadata": {
    "tags": []
   },
   "outputs": [],
   "source": [
    "dfcat = DFCatalogModel(metadata_columns=[\"meta\"])"
   ]
  },
  {
   "cell_type": "code",
   "execution_count": 5,
   "id": "29f9b721-cecf-4074-9eab-5db3c3e72433",
   "metadata": {
    "tags": []
   },
   "outputs": [],
   "source": [
    "cat = intake.open_csv(\"test.csv\")"
   ]
  },
  {
   "cell_type": "code",
   "execution_count": 6,
   "id": "34910241-71b0-4309-a2e4-45e4e2b86de5",
   "metadata": {
    "tags": []
   },
   "outputs": [],
   "source": [
    "for i in range(3):\n",
    "    cat.name = f\"csv{i}\"\n",
    "    if i == 0:\n",
    "        dfcat.add(cat, metadata={\"meta\": \"['0','1']\"})\n",
    "    else:\n",
    "        dfcat.add(cat, metadata={\"meta\": f\"['{i}']\"})"
   ]
  },
  {
   "cell_type": "code",
   "execution_count": 7,
   "id": "31e2fe16-8f95-4209-923c-14695e267e86",
   "metadata": {
    "tags": []
   },
   "outputs": [],
   "source": [
    "dfcat.save(\"dfcat\")"
   ]
  },
  {
   "cell_type": "code",
   "execution_count": 8,
   "id": "44ed2dbc-df30-41e1-a78b-a1cd6a569814",
   "metadata": {
    "tags": []
   },
   "outputs": [
    {
     "data": {
      "text/html": [
       "<div>\n",
       "<style scoped>\n",
       "    .dataframe tbody tr th:only-of-type {\n",
       "        vertical-align: middle;\n",
       "    }\n",
       "\n",
       "    .dataframe tbody tr th {\n",
       "        vertical-align: top;\n",
       "    }\n",
       "\n",
       "    .dataframe thead th {\n",
       "        text-align: right;\n",
       "    }\n",
       "</style>\n",
       "<table border=\"1\" class=\"dataframe\">\n",
       "  <thead>\n",
       "    <tr style=\"text-align: right;\">\n",
       "      <th></th>\n",
       "      <th>name</th>\n",
       "      <th>meta</th>\n",
       "      <th>yaml</th>\n",
       "    </tr>\n",
       "  </thead>\n",
       "  <tbody>\n",
       "    <tr>\n",
       "      <th>0</th>\n",
       "      <td>csv0</td>\n",
       "      <td>['0','1']</td>\n",
       "      <td>sources:\\n  csv0:\\n    args:\\n      urlpath: t...</td>\n",
       "    </tr>\n",
       "    <tr>\n",
       "      <th>1</th>\n",
       "      <td>csv1</td>\n",
       "      <td>['1']</td>\n",
       "      <td>sources:\\n  csv1:\\n    args:\\n      urlpath: t...</td>\n",
       "    </tr>\n",
       "    <tr>\n",
       "      <th>2</th>\n",
       "      <td>csv2</td>\n",
       "      <td>['2']</td>\n",
       "      <td>sources:\\n  csv2:\\n    args:\\n      urlpath: t...</td>\n",
       "    </tr>\n",
       "  </tbody>\n",
       "</table>\n",
       "</div>"
      ],
      "text/plain": [
       "   name       meta                                               yaml\n",
       "0  csv0  ['0','1']  sources:\\n  csv0:\\n    args:\\n      urlpath: t...\n",
       "1  csv1      ['1']  sources:\\n  csv1:\\n    args:\\n      urlpath: t...\n",
       "2  csv2      ['2']  sources:\\n  csv2:\\n    args:\\n      urlpath: t..."
      ]
     },
     "execution_count": 8,
     "metadata": {},
     "output_type": "execute_result"
    }
   ],
   "source": [
    "dfcat.df"
   ]
  },
  {
   "cell_type": "markdown",
   "id": "114c52c2-3a90-412d-8d90-ac6be3df3a90",
   "metadata": {},
   "source": [
    "## Create a DF Catalog directly from a dict"
   ]
  },
  {
   "cell_type": "code",
   "execution_count": 9,
   "id": "e18b3942-e8d7-4ec4-834c-a2300e5f9b44",
   "metadata": {
    "tags": []
   },
   "outputs": [],
   "source": [
    "from collections import defaultdict\n",
    "entries = defaultdict(list)\n",
    "for i in range(3):\n",
    "    cat.name = f\"csv{i}\"\n",
    "    entries[\"cat\"].append(cat)\n",
    "    entries[\"meta\"].append(i)"
   ]
  },
  {
   "cell_type": "code",
   "execution_count": 10,
   "id": "fd58b9d3-d57f-4318-8e96-b516132fa1da",
   "metadata": {
    "tags": []
   },
   "outputs": [],
   "source": [
    "dfcat = DFCatalogModel.from_dict(entries, cat_key=\"cat\")"
   ]
  },
  {
   "cell_type": "markdown",
   "id": "879ddac2-7b9f-4928-b1f4-0d25cb6f42f6",
   "metadata": {},
   "source": [
    "## Use the DF Catalog"
   ]
  },
  {
   "cell_type": "code",
   "execution_count": 11,
   "id": "7a1acd2c-cbd3-4900-8db7-75488b9ca5c1",
   "metadata": {
    "tags": []
   },
   "outputs": [],
   "source": [
    "import ast\n",
    "\n",
    "dfcat = intake.open_df_catalog(\"dfcat.csv\", read_kwargs={\"converters\": {\"meta\": ast.literal_eval}})"
   ]
  },
  {
   "cell_type": "code",
   "execution_count": 12,
   "id": "44cf1b6d-d289-4d5e-b26a-24399fa80bb3",
   "metadata": {
    "tags": []
   },
   "outputs": [
    {
     "data": {
      "text/html": [
       "<div>\n",
       "<style scoped>\n",
       "    .dataframe tbody tr th:only-of-type {\n",
       "        vertical-align: middle;\n",
       "    }\n",
       "\n",
       "    .dataframe tbody tr th {\n",
       "        vertical-align: top;\n",
       "    }\n",
       "\n",
       "    .dataframe thead th {\n",
       "        text-align: right;\n",
       "    }\n",
       "</style>\n",
       "<table border=\"1\" class=\"dataframe\">\n",
       "  <thead>\n",
       "    <tr style=\"text-align: right;\">\n",
       "      <th></th>\n",
       "      <th>name</th>\n",
       "      <th>meta</th>\n",
       "      <th>yaml</th>\n",
       "    </tr>\n",
       "  </thead>\n",
       "  <tbody>\n",
       "    <tr>\n",
       "      <th>0</th>\n",
       "      <td>csv0</td>\n",
       "      <td>[0, 1]</td>\n",
       "      <td>sources:\\n  csv0:\\n    args:\\n      urlpath: t...</td>\n",
       "    </tr>\n",
       "    <tr>\n",
       "      <th>1</th>\n",
       "      <td>csv1</td>\n",
       "      <td>[1]</td>\n",
       "      <td>sources:\\n  csv1:\\n    args:\\n      urlpath: t...</td>\n",
       "    </tr>\n",
       "  </tbody>\n",
       "</table>\n",
       "</div>"
      ],
      "text/plain": [
       "   name    meta                                               yaml\n",
       "0  csv0  [0, 1]  sources:\\n  csv0:\\n    args:\\n      urlpath: t...\n",
       "1  csv1     [1]  sources:\\n  csv1:\\n    args:\\n      urlpath: t..."
      ]
     },
     "execution_count": 12,
     "metadata": {},
     "output_type": "execute_result"
    }
   ],
   "source": [
    "dfcat.search(meta=[\"0\",\"1\"]).df"
   ]
  },
  {
   "cell_type": "code",
   "execution_count": 13,
   "id": "c770347c-7d9e-4c10-b9d6-fe3d0a2b2e7c",
   "metadata": {
    "tags": []
   },
   "outputs": [
    {
     "data": {
      "text/html": [
       "<div>\n",
       "<style scoped>\n",
       "    .dataframe tbody tr th:only-of-type {\n",
       "        vertical-align: middle;\n",
       "    }\n",
       "\n",
       "    .dataframe tbody tr th {\n",
       "        vertical-align: top;\n",
       "    }\n",
       "\n",
       "    .dataframe thead th {\n",
       "        text-align: right;\n",
       "    }\n",
       "</style>\n",
       "<table border=\"1\" class=\"dataframe\">\n",
       "  <thead>\n",
       "    <tr style=\"text-align: right;\">\n",
       "      <th></th>\n",
       "      <th>name</th>\n",
       "      <th>meta</th>\n",
       "      <th>yaml</th>\n",
       "    </tr>\n",
       "  </thead>\n",
       "  <tbody>\n",
       "    <tr>\n",
       "      <th>0</th>\n",
       "      <td>csv0</td>\n",
       "      <td>[0, 1]</td>\n",
       "      <td>sources:\\n  csv0:\\n    args:\\n      urlpath: t...</td>\n",
       "    </tr>\n",
       "  </tbody>\n",
       "</table>\n",
       "</div>"
      ],
      "text/plain": [
       "   name    meta                                               yaml\n",
       "0  csv0  [0, 1]  sources:\\n  csv0:\\n    args:\\n      urlpath: t..."
      ]
     },
     "execution_count": 13,
     "metadata": {},
     "output_type": "execute_result"
    }
   ],
   "source": [
    "dfcat.search(meta=[\"0\",\"1\"], require_all=True).df"
   ]
  },
  {
   "cell_type": "code",
   "execution_count": 14,
   "id": "c3b1d572-7b5c-464f-95c7-8a87b9289077",
   "metadata": {
    "tags": []
   },
   "outputs": [
    {
     "data": {
      "text/html": [
       "<div>\n",
       "<style scoped>\n",
       "    .dataframe tbody tr th:only-of-type {\n",
       "        vertical-align: middle;\n",
       "    }\n",
       "\n",
       "    .dataframe tbody tr th {\n",
       "        vertical-align: top;\n",
       "    }\n",
       "\n",
       "    .dataframe thead th {\n",
       "        text-align: right;\n",
       "    }\n",
       "</style>\n",
       "<table border=\"1\" class=\"dataframe\">\n",
       "  <thead>\n",
       "    <tr style=\"text-align: right;\">\n",
       "      <th></th>\n",
       "      <th>first_name</th>\n",
       "      <th>last_name</th>\n",
       "    </tr>\n",
       "  </thead>\n",
       "  <tbody>\n",
       "    <tr>\n",
       "      <th>0</th>\n",
       "      <td>joe</td>\n",
       "      <td>blogs</td>\n",
       "    </tr>\n",
       "    <tr>\n",
       "      <th>1</th>\n",
       "      <td>jane</td>\n",
       "      <td>doe</td>\n",
       "    </tr>\n",
       "  </tbody>\n",
       "</table>\n",
       "</div>"
      ],
      "text/plain": [
       "  first_name  last_name\n",
       "0        joe      blogs\n",
       "1       jane        doe"
      ]
     },
     "execution_count": 14,
     "metadata": {},
     "output_type": "execute_result"
    }
   ],
   "source": [
    "dfcat[\"csv0\"].read()"
   ]
  },
  {
   "cell_type": "code",
   "execution_count": 15,
   "id": "101eee4b-cbab-479a-884d-315383df6837",
   "metadata": {
    "tags": []
   },
   "outputs": [
    {
     "data": {
      "text/html": [
       "<div>\n",
       "<style scoped>\n",
       "    .dataframe tbody tr th:only-of-type {\n",
       "        vertical-align: middle;\n",
       "    }\n",
       "\n",
       "    .dataframe tbody tr th {\n",
       "        vertical-align: top;\n",
       "    }\n",
       "\n",
       "    .dataframe thead th {\n",
       "        text-align: right;\n",
       "    }\n",
       "</style>\n",
       "<table border=\"1\" class=\"dataframe\">\n",
       "  <thead>\n",
       "    <tr style=\"text-align: right;\">\n",
       "      <th></th>\n",
       "      <th>first_name</th>\n",
       "      <th>last_name</th>\n",
       "      <th>path</th>\n",
       "    </tr>\n",
       "  </thead>\n",
       "  <tbody>\n",
       "    <tr>\n",
       "      <th>0</th>\n",
       "      <td>joe</td>\n",
       "      <td>blogs</td>\n",
       "      <td>/g/data/tm70/ds0092/software/intake-dataframe-...</td>\n",
       "    </tr>\n",
       "    <tr>\n",
       "      <th>1</th>\n",
       "      <td>jane</td>\n",
       "      <td>doe</td>\n",
       "      <td>/g/data/tm70/ds0092/software/intake-dataframe-...</td>\n",
       "    </tr>\n",
       "  </tbody>\n",
       "</table>\n",
       "</div>"
      ],
      "text/plain": [
       "  first_name  last_name                                               path\n",
       "0        joe      blogs  /g/data/tm70/ds0092/software/intake-dataframe-...\n",
       "1       jane        doe  /g/data/tm70/ds0092/software/intake-dataframe-..."
      ]
     },
     "execution_count": 15,
     "metadata": {},
     "output_type": "execute_result"
    }
   ],
   "source": [
    "dfcat[\"csv0\"](csv_kwargs={\"include_path_column\":True}).read()"
   ]
  },
  {
   "cell_type": "code",
   "execution_count": 16,
   "id": "c8efc296-a86b-4d57-9ad3-ad28b9b206bc",
   "metadata": {
    "tags": []
   },
   "outputs": [],
   "source": [
    "dfcat.serialize(\"dfcat2\")"
   ]
  },
  {
   "cell_type": "markdown",
   "id": "4212cd30-d71a-4c21-8e2a-34f6b08efb1c",
   "metadata": {},
   "source": [
    "## Write to a yaml"
   ]
  },
  {
   "cell_type": "code",
   "execution_count": 17,
   "id": "1a9c0789-1edf-447b-b8fa-ff794bcd6095",
   "metadata": {
    "tags": []
   },
   "outputs": [
    {
     "name": "stdout",
     "output_type": "stream",
     "text": [
      "sources:\n",
      "  dfcat:\n",
      "    args:\n",
      "      path: dfcat.csv\n",
      "      read_kwargs:\n",
      "        converters:\n",
      "          meta: !!python/name:ast.literal_eval ''\n",
      "    description: ''\n",
      "    driver: intake_dataframe_catalog.core.DFFileCatalog\n",
      "    metadata: {}\n",
      "\n"
     ]
    }
   ],
   "source": [
    "dfcat.name = \"dfcat\"\n",
    "yaml_text = dfcat.yaml()\n",
    "print(yaml_text)\n",
    "with open(\"./dfcat.yaml\", mode=\"wt\") as f:\n",
    "    f.write(yaml_text)"
   ]
  },
  {
   "cell_type": "code",
   "execution_count": 18,
   "id": "a6bed711-c0d8-4f91-87b0-8587e55a1295",
   "metadata": {
    "tags": []
   },
   "outputs": [
    {
     "ename": "ConstructorError",
     "evalue": "could not determine a constructor for the tag 'tag:yaml.org,2002:python/name:ast.literal_eval'\n  in \"<unicode string>\", line 7, column 17:\n              meta: !!python/name:ast.literal_eval ''\n                    ^",
     "output_type": "error",
     "traceback": [
      "\u001b[0;31m---------------------------------------------------------------------------\u001b[0m",
      "\u001b[0;31mConstructorError\u001b[0m                          Traceback (most recent call last)",
      "Cell \u001b[0;32mIn[18], line 1\u001b[0m\n\u001b[0;32m----> 1\u001b[0m cat \u001b[38;5;241m=\u001b[39m \u001b[43mintake\u001b[49m\u001b[38;5;241;43m.\u001b[39;49m\u001b[43mopen_catalog\u001b[49m\u001b[43m(\u001b[49m\u001b[38;5;124;43m\"\u001b[39;49m\u001b[38;5;124;43mdfcat.yaml\u001b[39;49m\u001b[38;5;124;43m\"\u001b[39;49m\u001b[43m)\u001b[49m\n",
      "File \u001b[0;32m/g/data/tm70/ds0092/software/mambaforge/envs/intake-df-cat-dev/lib/python3.11/site-packages/intake/__init__.py:149\u001b[0m, in \u001b[0;36mopen_catalog\u001b[0;34m(uri, **kwargs)\u001b[0m\n\u001b[1;32m    147\u001b[0m \u001b[38;5;28;01mif\u001b[39;00m driver \u001b[38;5;129;01mnot\u001b[39;00m \u001b[38;5;129;01min\u001b[39;00m registry:\n\u001b[1;32m    148\u001b[0m     \u001b[38;5;28;01mraise\u001b[39;00m \u001b[38;5;167;01mValueError\u001b[39;00m(\u001b[38;5;124m\"\u001b[39m\u001b[38;5;124mUnknown catalog driver (\u001b[39m\u001b[38;5;132;01m%s\u001b[39;00m\u001b[38;5;124m), supply one of: \u001b[39m\u001b[38;5;132;01m%s\u001b[39;00m\u001b[38;5;124m\"\u001b[39m \u001b[38;5;241m%\u001b[39m (driver, \u001b[38;5;28mlist\u001b[39m(\u001b[38;5;28msorted\u001b[39m(registry))))\n\u001b[0;32m--> 149\u001b[0m \u001b[38;5;28;01mreturn\u001b[39;00m \u001b[43mregistry\u001b[49m\u001b[43m[\u001b[49m\u001b[43mdriver\u001b[49m\u001b[43m]\u001b[49m\u001b[43m(\u001b[49m\u001b[43muri\u001b[49m\u001b[43m,\u001b[49m\u001b[43m \u001b[49m\u001b[38;5;241;43m*\u001b[39;49m\u001b[38;5;241;43m*\u001b[39;49m\u001b[43mkwargs\u001b[49m\u001b[43m)\u001b[49m\n",
      "File \u001b[0;32m/g/data/tm70/ds0092/software/mambaforge/envs/intake-df-cat-dev/lib/python3.11/site-packages/intake/catalog/local.py:549\u001b[0m, in \u001b[0;36mYAMLFileCatalog.__init__\u001b[0;34m(self, path, text, autoreload, **kwargs)\u001b[0m\n\u001b[1;32m    547\u001b[0m \u001b[38;5;28mself\u001b[39m\u001b[38;5;241m.\u001b[39mfilesystem \u001b[38;5;241m=\u001b[39m kwargs\u001b[38;5;241m.\u001b[39mpop(\u001b[38;5;124m\"\u001b[39m\u001b[38;5;124mfs\u001b[39m\u001b[38;5;124m\"\u001b[39m, \u001b[38;5;28;01mNone\u001b[39;00m)\n\u001b[1;32m    548\u001b[0m \u001b[38;5;28mself\u001b[39m\u001b[38;5;241m.\u001b[39maccess \u001b[38;5;241m=\u001b[39m \u001b[38;5;124m\"\u001b[39m\u001b[38;5;124mname\u001b[39m\u001b[38;5;124m\"\u001b[39m \u001b[38;5;129;01mnot\u001b[39;00m \u001b[38;5;129;01min\u001b[39;00m kwargs\n\u001b[0;32m--> 549\u001b[0m \u001b[38;5;28;43msuper\u001b[39;49m\u001b[43m(\u001b[49m\u001b[43mYAMLFileCatalog\u001b[49m\u001b[43m,\u001b[49m\u001b[43m \u001b[49m\u001b[38;5;28;43mself\u001b[39;49m\u001b[43m)\u001b[49m\u001b[38;5;241;43m.\u001b[39;49m\u001b[38;5;21;43m__init__\u001b[39;49m\u001b[43m(\u001b[49m\u001b[38;5;241;43m*\u001b[39;49m\u001b[38;5;241;43m*\u001b[39;49m\u001b[43mkwargs\u001b[49m\u001b[43m)\u001b[49m\n",
      "File \u001b[0;32m/g/data/tm70/ds0092/software/mambaforge/envs/intake-df-cat-dev/lib/python3.11/site-packages/intake/catalog/base.py:121\u001b[0m, in \u001b[0;36mCatalog.__init__\u001b[0;34m(self, entries, name, description, metadata, ttl, getenv, getshell, persist_mode, storage_options, user_parameters)\u001b[0m\n\u001b[1;32m    119\u001b[0m \u001b[38;5;28mself\u001b[39m\u001b[38;5;241m.\u001b[39mupdated \u001b[38;5;241m=\u001b[39m time\u001b[38;5;241m.\u001b[39mtime()\n\u001b[1;32m    120\u001b[0m \u001b[38;5;28mself\u001b[39m\u001b[38;5;241m.\u001b[39m_entries \u001b[38;5;241m=\u001b[39m entries \u001b[38;5;28;01mif\u001b[39;00m entries \u001b[38;5;129;01mis\u001b[39;00m \u001b[38;5;129;01mnot\u001b[39;00m \u001b[38;5;28;01mNone\u001b[39;00m \u001b[38;5;28;01melse\u001b[39;00m \u001b[38;5;28mself\u001b[39m\u001b[38;5;241m.\u001b[39m_make_entries_container()\n\u001b[0;32m--> 121\u001b[0m \u001b[38;5;28;43mself\u001b[39;49m\u001b[38;5;241;43m.\u001b[39;49m\u001b[43mforce_reload\u001b[49m\u001b[43m(\u001b[49m\u001b[43m)\u001b[49m\n",
      "File \u001b[0;32m/g/data/tm70/ds0092/software/mambaforge/envs/intake-df-cat-dev/lib/python3.11/site-packages/intake/catalog/base.py:179\u001b[0m, in \u001b[0;36mCatalog.force_reload\u001b[0;34m(self)\u001b[0m\n\u001b[1;32m    177\u001b[0m \u001b[38;5;250m\u001b[39m\u001b[38;5;124;03m\"\"\"Imperative reload data now\"\"\"\u001b[39;00m\n\u001b[1;32m    178\u001b[0m \u001b[38;5;28mself\u001b[39m\u001b[38;5;241m.\u001b[39mupdated \u001b[38;5;241m=\u001b[39m time\u001b[38;5;241m.\u001b[39mtime()\n\u001b[0;32m--> 179\u001b[0m \u001b[38;5;28;43mself\u001b[39;49m\u001b[38;5;241;43m.\u001b[39;49m\u001b[43m_load\u001b[49m\u001b[43m(\u001b[49m\u001b[43m)\u001b[49m\n",
      "File \u001b[0;32m/g/data/tm70/ds0092/software/mambaforge/envs/intake-df-cat-dev/lib/python3.11/site-packages/intake/catalog/local.py:582\u001b[0m, in \u001b[0;36mYAMLFileCatalog._load\u001b[0;34m(self, reload)\u001b[0m\n\u001b[1;32m    580\u001b[0m     logger\u001b[38;5;241m.\u001b[39mwarning(\u001b[38;5;124m\"\u001b[39m\u001b[38;5;124mUse of \u001b[39m\u001b[38;5;124m'\u001b[39m\u001b[38;5;124m!template\u001b[39m\u001b[38;5;124m'\u001b[39m\u001b[38;5;124m deprecated - fixing\u001b[39m\u001b[38;5;124m\"\u001b[39m)\n\u001b[1;32m    581\u001b[0m     text \u001b[38;5;241m=\u001b[39m text\u001b[38;5;241m.\u001b[39mreplace(\u001b[38;5;124m\"\u001b[39m\u001b[38;5;124m!template \u001b[39m\u001b[38;5;124m\"\u001b[39m, \u001b[38;5;124m\"\u001b[39m\u001b[38;5;124m\"\u001b[39m)\n\u001b[0;32m--> 582\u001b[0m \u001b[38;5;28;43mself\u001b[39;49m\u001b[38;5;241;43m.\u001b[39;49m\u001b[43mparse\u001b[49m\u001b[43m(\u001b[49m\u001b[43mtext\u001b[49m\u001b[43m)\u001b[49m\n",
      "File \u001b[0;32m/g/data/tm70/ds0092/software/mambaforge/envs/intake-df-cat-dev/lib/python3.11/site-packages/intake/catalog/local.py:651\u001b[0m, in \u001b[0;36mYAMLFileCatalog.parse\u001b[0;34m(self, text)\u001b[0m\n\u001b[1;32m    639\u001b[0m \u001b[38;5;250m\u001b[39m\u001b[38;5;124;03m\"\"\"Create entries from catalog text\u001b[39;00m\n\u001b[1;32m    640\u001b[0m \n\u001b[1;32m    641\u001b[0m \u001b[38;5;124;03mNormally the text comes from the file at self.path via the ``_load()``\u001b[39;00m\n\u001b[0;32m   (...)\u001b[0m\n\u001b[1;32m    648\u001b[0m \u001b[38;5;124;03m    YAML formatted catalog spec\u001b[39;00m\n\u001b[1;32m    649\u001b[0m \u001b[38;5;124;03m\"\"\"\u001b[39;00m\n\u001b[1;32m    650\u001b[0m \u001b[38;5;28mself\u001b[39m\u001b[38;5;241m.\u001b[39mtext \u001b[38;5;241m=\u001b[39m text\n\u001b[0;32m--> 651\u001b[0m data \u001b[38;5;241m=\u001b[39m \u001b[43myaml_load\u001b[49m\u001b[43m(\u001b[49m\u001b[38;5;28;43mself\u001b[39;49m\u001b[38;5;241;43m.\u001b[39;49m\u001b[43mtext\u001b[49m\u001b[43m)\u001b[49m\n\u001b[1;32m    653\u001b[0m \u001b[38;5;28;01mif\u001b[39;00m data \u001b[38;5;129;01mis\u001b[39;00m \u001b[38;5;28;01mNone\u001b[39;00m:\n\u001b[1;32m    654\u001b[0m     \u001b[38;5;28;01mraise\u001b[39;00m exceptions\u001b[38;5;241m.\u001b[39mCatalogException(\u001b[38;5;124m\"\u001b[39m\u001b[38;5;124mNo YAML data in file\u001b[39m\u001b[38;5;124m\"\u001b[39m)\n",
      "File \u001b[0;32m/g/data/tm70/ds0092/software/mambaforge/envs/intake-df-cat-dev/lib/python3.11/site-packages/intake/utils.py:70\u001b[0m, in \u001b[0;36myaml_load\u001b[0;34m(stream)\u001b[0m\n\u001b[1;32m     68\u001b[0m \u001b[38;5;250m\u001b[39m\u001b[38;5;124;03m\"\"\"Parse YAML in a context where duplicate keys raise exception\"\"\"\u001b[39;00m\n\u001b[1;32m     69\u001b[0m \u001b[38;5;28;01mwith\u001b[39;00m no_duplicate_yaml():\n\u001b[0;32m---> 70\u001b[0m     \u001b[38;5;28;01mreturn\u001b[39;00m \u001b[43myaml\u001b[49m\u001b[38;5;241;43m.\u001b[39;49m\u001b[43msafe_load\u001b[49m\u001b[43m(\u001b[49m\u001b[43mstream\u001b[49m\u001b[43m)\u001b[49m\n",
      "File \u001b[0;32m/g/data/tm70/ds0092/software/mambaforge/envs/intake-df-cat-dev/lib/python3.11/site-packages/yaml/__init__.py:125\u001b[0m, in \u001b[0;36msafe_load\u001b[0;34m(stream)\u001b[0m\n\u001b[1;32m    117\u001b[0m \u001b[38;5;28;01mdef\u001b[39;00m \u001b[38;5;21msafe_load\u001b[39m(stream):\n\u001b[1;32m    118\u001b[0m \u001b[38;5;250m    \u001b[39m\u001b[38;5;124;03m\"\"\"\u001b[39;00m\n\u001b[1;32m    119\u001b[0m \u001b[38;5;124;03m    Parse the first YAML document in a stream\u001b[39;00m\n\u001b[1;32m    120\u001b[0m \u001b[38;5;124;03m    and produce the corresponding Python object.\u001b[39;00m\n\u001b[0;32m   (...)\u001b[0m\n\u001b[1;32m    123\u001b[0m \u001b[38;5;124;03m    to be safe for untrusted input.\u001b[39;00m\n\u001b[1;32m    124\u001b[0m \u001b[38;5;124;03m    \"\"\"\u001b[39;00m\n\u001b[0;32m--> 125\u001b[0m     \u001b[38;5;28;01mreturn\u001b[39;00m \u001b[43mload\u001b[49m\u001b[43m(\u001b[49m\u001b[43mstream\u001b[49m\u001b[43m,\u001b[49m\u001b[43m \u001b[49m\u001b[43mSafeLoader\u001b[49m\u001b[43m)\u001b[49m\n",
      "File \u001b[0;32m/g/data/tm70/ds0092/software/mambaforge/envs/intake-df-cat-dev/lib/python3.11/site-packages/yaml/__init__.py:81\u001b[0m, in \u001b[0;36mload\u001b[0;34m(stream, Loader)\u001b[0m\n\u001b[1;32m     79\u001b[0m loader \u001b[38;5;241m=\u001b[39m Loader(stream)\n\u001b[1;32m     80\u001b[0m \u001b[38;5;28;01mtry\u001b[39;00m:\n\u001b[0;32m---> 81\u001b[0m     \u001b[38;5;28;01mreturn\u001b[39;00m \u001b[43mloader\u001b[49m\u001b[38;5;241;43m.\u001b[39;49m\u001b[43mget_single_data\u001b[49m\u001b[43m(\u001b[49m\u001b[43m)\u001b[49m\n\u001b[1;32m     82\u001b[0m \u001b[38;5;28;01mfinally\u001b[39;00m:\n\u001b[1;32m     83\u001b[0m     loader\u001b[38;5;241m.\u001b[39mdispose()\n",
      "File \u001b[0;32m/g/data/tm70/ds0092/software/mambaforge/envs/intake-df-cat-dev/lib/python3.11/site-packages/yaml/constructor.py:51\u001b[0m, in \u001b[0;36mBaseConstructor.get_single_data\u001b[0;34m(self)\u001b[0m\n\u001b[1;32m     49\u001b[0m node \u001b[38;5;241m=\u001b[39m \u001b[38;5;28mself\u001b[39m\u001b[38;5;241m.\u001b[39mget_single_node()\n\u001b[1;32m     50\u001b[0m \u001b[38;5;28;01mif\u001b[39;00m node \u001b[38;5;129;01mis\u001b[39;00m \u001b[38;5;129;01mnot\u001b[39;00m \u001b[38;5;28;01mNone\u001b[39;00m:\n\u001b[0;32m---> 51\u001b[0m     \u001b[38;5;28;01mreturn\u001b[39;00m \u001b[38;5;28;43mself\u001b[39;49m\u001b[38;5;241;43m.\u001b[39;49m\u001b[43mconstruct_document\u001b[49m\u001b[43m(\u001b[49m\u001b[43mnode\u001b[49m\u001b[43m)\u001b[49m\n\u001b[1;32m     52\u001b[0m \u001b[38;5;28;01mreturn\u001b[39;00m \u001b[38;5;28;01mNone\u001b[39;00m\n",
      "File \u001b[0;32m/g/data/tm70/ds0092/software/mambaforge/envs/intake-df-cat-dev/lib/python3.11/site-packages/yaml/constructor.py:55\u001b[0m, in \u001b[0;36mBaseConstructor.construct_document\u001b[0;34m(self, node)\u001b[0m\n\u001b[1;32m     54\u001b[0m \u001b[38;5;28;01mdef\u001b[39;00m \u001b[38;5;21mconstruct_document\u001b[39m(\u001b[38;5;28mself\u001b[39m, node):\n\u001b[0;32m---> 55\u001b[0m     data \u001b[38;5;241m=\u001b[39m \u001b[38;5;28;43mself\u001b[39;49m\u001b[38;5;241;43m.\u001b[39;49m\u001b[43mconstruct_object\u001b[49m\u001b[43m(\u001b[49m\u001b[43mnode\u001b[49m\u001b[43m)\u001b[49m\n\u001b[1;32m     56\u001b[0m     \u001b[38;5;28;01mwhile\u001b[39;00m \u001b[38;5;28mself\u001b[39m\u001b[38;5;241m.\u001b[39mstate_generators:\n\u001b[1;32m     57\u001b[0m         state_generators \u001b[38;5;241m=\u001b[39m \u001b[38;5;28mself\u001b[39m\u001b[38;5;241m.\u001b[39mstate_generators\n",
      "File \u001b[0;32m/g/data/tm70/ds0092/software/mambaforge/envs/intake-df-cat-dev/lib/python3.11/site-packages/yaml/constructor.py:100\u001b[0m, in \u001b[0;36mBaseConstructor.construct_object\u001b[0;34m(self, node, deep)\u001b[0m\n\u001b[1;32m     98\u001b[0m             constructor \u001b[38;5;241m=\u001b[39m \u001b[38;5;28mself\u001b[39m\u001b[38;5;241m.\u001b[39m\u001b[38;5;18m__class__\u001b[39m\u001b[38;5;241m.\u001b[39mconstruct_mapping\n\u001b[1;32m     99\u001b[0m \u001b[38;5;28;01mif\u001b[39;00m tag_suffix \u001b[38;5;129;01mis\u001b[39;00m \u001b[38;5;28;01mNone\u001b[39;00m:\n\u001b[0;32m--> 100\u001b[0m     data \u001b[38;5;241m=\u001b[39m \u001b[43mconstructor\u001b[49m\u001b[43m(\u001b[49m\u001b[38;5;28;43mself\u001b[39;49m\u001b[43m,\u001b[49m\u001b[43m \u001b[49m\u001b[43mnode\u001b[49m\u001b[43m)\u001b[49m\n\u001b[1;32m    101\u001b[0m \u001b[38;5;28;01melse\u001b[39;00m:\n\u001b[1;32m    102\u001b[0m     data \u001b[38;5;241m=\u001b[39m constructor(\u001b[38;5;28mself\u001b[39m, tag_suffix, node)\n",
      "File \u001b[0;32m/g/data/tm70/ds0092/software/mambaforge/envs/intake-df-cat-dev/lib/python3.11/site-packages/intake/utils.py:36\u001b[0m, in \u001b[0;36mno_duplicates_constructor\u001b[0;34m(loader, node, deep)\u001b[0m\n\u001b[1;32m     34\u001b[0m \u001b[38;5;28;01mfor\u001b[39;00m key_node, value_node \u001b[38;5;129;01min\u001b[39;00m node\u001b[38;5;241m.\u001b[39mvalue:\n\u001b[1;32m     35\u001b[0m     key \u001b[38;5;241m=\u001b[39m loader\u001b[38;5;241m.\u001b[39mconstruct_object(key_node, deep\u001b[38;5;241m=\u001b[39mdeep)\n\u001b[0;32m---> 36\u001b[0m     value \u001b[38;5;241m=\u001b[39m \u001b[43mloader\u001b[49m\u001b[38;5;241;43m.\u001b[39;49m\u001b[43mconstruct_object\u001b[49m\u001b[43m(\u001b[49m\u001b[43mvalue_node\u001b[49m\u001b[43m,\u001b[49m\u001b[43m \u001b[49m\u001b[43mdeep\u001b[49m\u001b[38;5;241;43m=\u001b[39;49m\u001b[43mdeep\u001b[49m\u001b[43m)\u001b[49m\n\u001b[1;32m     37\u001b[0m     \u001b[38;5;28;01mif\u001b[39;00m key \u001b[38;5;129;01min\u001b[39;00m mapping:\n\u001b[1;32m     38\u001b[0m         \u001b[38;5;28;01mfrom\u001b[39;00m \u001b[38;5;21;01mintake\u001b[39;00m\u001b[38;5;21;01m.\u001b[39;00m\u001b[38;5;21;01mcatalog\u001b[39;00m\u001b[38;5;21;01m.\u001b[39;00m\u001b[38;5;21;01mexceptions\u001b[39;00m \u001b[38;5;28;01mimport\u001b[39;00m DuplicateKeyError\n",
      "File \u001b[0;32m/g/data/tm70/ds0092/software/mambaforge/envs/intake-df-cat-dev/lib/python3.11/site-packages/yaml/constructor.py:100\u001b[0m, in \u001b[0;36mBaseConstructor.construct_object\u001b[0;34m(self, node, deep)\u001b[0m\n\u001b[1;32m     98\u001b[0m             constructor \u001b[38;5;241m=\u001b[39m \u001b[38;5;28mself\u001b[39m\u001b[38;5;241m.\u001b[39m\u001b[38;5;18m__class__\u001b[39m\u001b[38;5;241m.\u001b[39mconstruct_mapping\n\u001b[1;32m     99\u001b[0m \u001b[38;5;28;01mif\u001b[39;00m tag_suffix \u001b[38;5;129;01mis\u001b[39;00m \u001b[38;5;28;01mNone\u001b[39;00m:\n\u001b[0;32m--> 100\u001b[0m     data \u001b[38;5;241m=\u001b[39m \u001b[43mconstructor\u001b[49m\u001b[43m(\u001b[49m\u001b[38;5;28;43mself\u001b[39;49m\u001b[43m,\u001b[49m\u001b[43m \u001b[49m\u001b[43mnode\u001b[49m\u001b[43m)\u001b[49m\n\u001b[1;32m    101\u001b[0m \u001b[38;5;28;01melse\u001b[39;00m:\n\u001b[1;32m    102\u001b[0m     data \u001b[38;5;241m=\u001b[39m constructor(\u001b[38;5;28mself\u001b[39m, tag_suffix, node)\n",
      "File \u001b[0;32m/g/data/tm70/ds0092/software/mambaforge/envs/intake-df-cat-dev/lib/python3.11/site-packages/intake/utils.py:36\u001b[0m, in \u001b[0;36mno_duplicates_constructor\u001b[0;34m(loader, node, deep)\u001b[0m\n\u001b[1;32m     34\u001b[0m \u001b[38;5;28;01mfor\u001b[39;00m key_node, value_node \u001b[38;5;129;01min\u001b[39;00m node\u001b[38;5;241m.\u001b[39mvalue:\n\u001b[1;32m     35\u001b[0m     key \u001b[38;5;241m=\u001b[39m loader\u001b[38;5;241m.\u001b[39mconstruct_object(key_node, deep\u001b[38;5;241m=\u001b[39mdeep)\n\u001b[0;32m---> 36\u001b[0m     value \u001b[38;5;241m=\u001b[39m \u001b[43mloader\u001b[49m\u001b[38;5;241;43m.\u001b[39;49m\u001b[43mconstruct_object\u001b[49m\u001b[43m(\u001b[49m\u001b[43mvalue_node\u001b[49m\u001b[43m,\u001b[49m\u001b[43m \u001b[49m\u001b[43mdeep\u001b[49m\u001b[38;5;241;43m=\u001b[39;49m\u001b[43mdeep\u001b[49m\u001b[43m)\u001b[49m\n\u001b[1;32m     37\u001b[0m     \u001b[38;5;28;01mif\u001b[39;00m key \u001b[38;5;129;01min\u001b[39;00m mapping:\n\u001b[1;32m     38\u001b[0m         \u001b[38;5;28;01mfrom\u001b[39;00m \u001b[38;5;21;01mintake\u001b[39;00m\u001b[38;5;21;01m.\u001b[39;00m\u001b[38;5;21;01mcatalog\u001b[39;00m\u001b[38;5;21;01m.\u001b[39;00m\u001b[38;5;21;01mexceptions\u001b[39;00m \u001b[38;5;28;01mimport\u001b[39;00m DuplicateKeyError\n",
      "    \u001b[0;31m[... skipping similar frames: BaseConstructor.construct_object at line 100 (4 times), no_duplicates_constructor at line 36 (3 times)]\u001b[0m\n",
      "File \u001b[0;32m/g/data/tm70/ds0092/software/mambaforge/envs/intake-df-cat-dev/lib/python3.11/site-packages/intake/utils.py:36\u001b[0m, in \u001b[0;36mno_duplicates_constructor\u001b[0;34m(loader, node, deep)\u001b[0m\n\u001b[1;32m     34\u001b[0m \u001b[38;5;28;01mfor\u001b[39;00m key_node, value_node \u001b[38;5;129;01min\u001b[39;00m node\u001b[38;5;241m.\u001b[39mvalue:\n\u001b[1;32m     35\u001b[0m     key \u001b[38;5;241m=\u001b[39m loader\u001b[38;5;241m.\u001b[39mconstruct_object(key_node, deep\u001b[38;5;241m=\u001b[39mdeep)\n\u001b[0;32m---> 36\u001b[0m     value \u001b[38;5;241m=\u001b[39m \u001b[43mloader\u001b[49m\u001b[38;5;241;43m.\u001b[39;49m\u001b[43mconstruct_object\u001b[49m\u001b[43m(\u001b[49m\u001b[43mvalue_node\u001b[49m\u001b[43m,\u001b[49m\u001b[43m \u001b[49m\u001b[43mdeep\u001b[49m\u001b[38;5;241;43m=\u001b[39;49m\u001b[43mdeep\u001b[49m\u001b[43m)\u001b[49m\n\u001b[1;32m     37\u001b[0m     \u001b[38;5;28;01mif\u001b[39;00m key \u001b[38;5;129;01min\u001b[39;00m mapping:\n\u001b[1;32m     38\u001b[0m         \u001b[38;5;28;01mfrom\u001b[39;00m \u001b[38;5;21;01mintake\u001b[39;00m\u001b[38;5;21;01m.\u001b[39;00m\u001b[38;5;21;01mcatalog\u001b[39;00m\u001b[38;5;21;01m.\u001b[39;00m\u001b[38;5;21;01mexceptions\u001b[39;00m \u001b[38;5;28;01mimport\u001b[39;00m DuplicateKeyError\n",
      "File \u001b[0;32m/g/data/tm70/ds0092/software/mambaforge/envs/intake-df-cat-dev/lib/python3.11/site-packages/yaml/constructor.py:100\u001b[0m, in \u001b[0;36mBaseConstructor.construct_object\u001b[0;34m(self, node, deep)\u001b[0m\n\u001b[1;32m     98\u001b[0m             constructor \u001b[38;5;241m=\u001b[39m \u001b[38;5;28mself\u001b[39m\u001b[38;5;241m.\u001b[39m\u001b[38;5;18m__class__\u001b[39m\u001b[38;5;241m.\u001b[39mconstruct_mapping\n\u001b[1;32m     99\u001b[0m \u001b[38;5;28;01mif\u001b[39;00m tag_suffix \u001b[38;5;129;01mis\u001b[39;00m \u001b[38;5;28;01mNone\u001b[39;00m:\n\u001b[0;32m--> 100\u001b[0m     data \u001b[38;5;241m=\u001b[39m \u001b[43mconstructor\u001b[49m\u001b[43m(\u001b[49m\u001b[38;5;28;43mself\u001b[39;49m\u001b[43m,\u001b[49m\u001b[43m \u001b[49m\u001b[43mnode\u001b[49m\u001b[43m)\u001b[49m\n\u001b[1;32m    101\u001b[0m \u001b[38;5;28;01melse\u001b[39;00m:\n\u001b[1;32m    102\u001b[0m     data \u001b[38;5;241m=\u001b[39m constructor(\u001b[38;5;28mself\u001b[39m, tag_suffix, node)\n",
      "File \u001b[0;32m/g/data/tm70/ds0092/software/mambaforge/envs/intake-df-cat-dev/lib/python3.11/site-packages/yaml/constructor.py:427\u001b[0m, in \u001b[0;36mSafeConstructor.construct_undefined\u001b[0;34m(self, node)\u001b[0m\n\u001b[1;32m    426\u001b[0m \u001b[38;5;28;01mdef\u001b[39;00m \u001b[38;5;21mconstruct_undefined\u001b[39m(\u001b[38;5;28mself\u001b[39m, node):\n\u001b[0;32m--> 427\u001b[0m     \u001b[38;5;28;01mraise\u001b[39;00m ConstructorError(\u001b[38;5;28;01mNone\u001b[39;00m, \u001b[38;5;28;01mNone\u001b[39;00m,\n\u001b[1;32m    428\u001b[0m             \u001b[38;5;124m\"\u001b[39m\u001b[38;5;124mcould not determine a constructor for the tag \u001b[39m\u001b[38;5;132;01m%r\u001b[39;00m\u001b[38;5;124m\"\u001b[39m \u001b[38;5;241m%\u001b[39m node\u001b[38;5;241m.\u001b[39mtag,\n\u001b[1;32m    429\u001b[0m             node\u001b[38;5;241m.\u001b[39mstart_mark)\n",
      "\u001b[0;31mConstructorError\u001b[0m: could not determine a constructor for the tag 'tag:yaml.org,2002:python/name:ast.literal_eval'\n  in \"<unicode string>\", line 7, column 17:\n              meta: !!python/name:ast.literal_eval ''\n                    ^"
     ]
    }
   ],
   "source": [
    "cat = intake.open_catalog(\"dfcat.yaml\")"
   ]
  },
  {
   "cell_type": "code",
   "execution_count": null,
   "id": "ad9460b3-8073-4728-8cfa-6e951e52a56d",
   "metadata": {
    "tags": []
   },
   "outputs": [],
   "source": [
    "cat.dfcat.df"
   ]
  },
  {
   "cell_type": "code",
   "execution_count": null,
   "id": "9c109e8b-8466-45f9-8a87-ba284f8b4404",
   "metadata": {},
   "outputs": [],
   "source": []
  }
 ],
 "metadata": {
  "kernelspec": {
   "display_name": "Python (intake-df-cat-dev)",
   "language": "python",
   "name": "intake-df-cat-dev"
  },
  "language_info": {
   "codemirror_mode": {
    "name": "ipython",
    "version": 3
   },
   "file_extension": ".py",
   "mimetype": "text/x-python",
   "name": "python",
   "nbconvert_exporter": "python",
   "pygments_lexer": "ipython3",
   "version": "3.11.0"
  }
 },
 "nbformat": 4,
 "nbformat_minor": 5
}
