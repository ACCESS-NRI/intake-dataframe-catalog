{
 "cells": [
  {
   "cell_type": "markdown",
   "id": "6d6b7c71-bc1e-4908-a395-f1671051feab",
   "metadata": {},
   "source": [
    "# Quickstart\n",
    "\n",
    "This page demonstrates how to use intake-dataframe-catalog by building and using a very simple dataframe catalog comprising the intake-esm tutorial catalogs available at https://github.com/intake/intake-esm/raw/main/tutorial-catalogs."
   ]
  },
  {
   "cell_type": "code",
   "execution_count": 1,
   "id": "431997e8-0d26-4492-9ff6-a922d6a3abdc",
   "metadata": {},
   "outputs": [],
   "source": [
    "import intake"
   ]
  },
  {
   "cell_type": "markdown",
   "id": "1b9b6fc0-c97a-48d3-bab9-5c0dab526ae3",
   "metadata": {},
   "source": [
    "## Prerequisites"
   ]
  },
  {
   "cell_type": "markdown",
   "id": "7f4ad5a7-9e1d-4ad6-a0ed-19a7b9567088",
   "metadata": {},
   "source": [
    "First, we open each of the intake-esm catalogs. Our goal is to create an intake dataframe catalog with these as subcatalogs."
   ]
  },
  {
   "cell_type": "code",
   "execution_count": 3,
   "id": "acc21eab-d5dd-4f08-b9c5-a4b40b545ac6",
   "metadata": {},
   "outputs": [],
   "source": [
    "aws_cesm2_lens = intake.open_esm_datastore(\n",
    "    \"https://raw.githubusercontent.com/NCAR/cesm2-le-aws/main/intake-catalogs/aws-cesm2-le.json\"\n",
    ")"
   ]
  },
  {
   "cell_type": "code",
   "execution_count": 4,
   "id": "3d929929-5061-425b-a10e-20896513980a",
   "metadata": {},
   "outputs": [],
   "source": [
    "aws_cmip6 = intake.open_esm_datastore(\n",
    "    \"https://cmip6-pds.s3.amazonaws.com/pangeo-cmip6.json\"\n",
    ")"
   ]
  },
  {
   "cell_type": "code",
   "execution_count": 5,
   "id": "d1f07c65-49cf-4f9e-8376-164a3fd52b9e",
   "metadata": {},
   "outputs": [],
   "source": [
    "google_cmip6 = intake.open_esm_datastore(\n",
    "    \"https://storage.googleapis.com/cmip6/pangeo-cmip6.json\"\n",
    ")"
   ]
  },
  {
   "cell_type": "markdown",
   "id": "7f2110f3-2ea1-45fe-ad09-d22438afbcaa",
   "metadata": {},
   "source": [
    "Each of these intake-esm catalogs includes a table of remote zarr files and metadata associated with each file. "
   ]
  },
  {
   "cell_type": "code",
   "execution_count": 6,
   "id": "6d70a373-edd8-44a4-bc98-4d524b3fa563",
   "metadata": {},
   "outputs": [
    {
     "data": {
      "text/html": [
       "<div>\n",
       "<style scoped>\n",
       "    .dataframe tbody tr th:only-of-type {\n",
       "        vertical-align: middle;\n",
       "    }\n",
       "\n",
       "    .dataframe tbody tr th {\n",
       "        vertical-align: top;\n",
       "    }\n",
       "\n",
       "    .dataframe thead th {\n",
       "        text-align: right;\n",
       "    }\n",
       "</style>\n",
       "<table border=\"1\" class=\"dataframe\">\n",
       "  <thead>\n",
       "    <tr style=\"text-align: right;\">\n",
       "      <th></th>\n",
       "      <th>activity_id</th>\n",
       "      <th>institution_id</th>\n",
       "      <th>source_id</th>\n",
       "      <th>experiment_id</th>\n",
       "      <th>member_id</th>\n",
       "      <th>table_id</th>\n",
       "      <th>variable_id</th>\n",
       "      <th>grid_label</th>\n",
       "      <th>zstore</th>\n",
       "    </tr>\n",
       "  </thead>\n",
       "  <tbody>\n",
       "    <tr>\n",
       "      <th>0</th>\n",
       "      <td>HighResMIP</td>\n",
       "      <td>CMCC</td>\n",
       "      <td>CMCC-CM2-HR4</td>\n",
       "      <td>highresSST-present</td>\n",
       "      <td>r1i1p1f1</td>\n",
       "      <td>Amon</td>\n",
       "      <td>ta</td>\n",
       "      <td>gn</td>\n",
       "      <td>s3://cmip6-pds/CMIP6/HighResMIP/CMCC/CMCC-CM2-...</td>\n",
       "    </tr>\n",
       "    <tr>\n",
       "      <th>1</th>\n",
       "      <td>HighResMIP</td>\n",
       "      <td>CMCC</td>\n",
       "      <td>CMCC-CM2-HR4</td>\n",
       "      <td>highresSST-present</td>\n",
       "      <td>r1i1p1f1</td>\n",
       "      <td>Amon</td>\n",
       "      <td>tauv</td>\n",
       "      <td>gn</td>\n",
       "      <td>s3://cmip6-pds/CMIP6/HighResMIP/CMCC/CMCC-CM2-...</td>\n",
       "    </tr>\n",
       "    <tr>\n",
       "      <th>2</th>\n",
       "      <td>HighResMIP</td>\n",
       "      <td>CMCC</td>\n",
       "      <td>CMCC-CM2-HR4</td>\n",
       "      <td>highresSST-present</td>\n",
       "      <td>r1i1p1f1</td>\n",
       "      <td>Amon</td>\n",
       "      <td>zg</td>\n",
       "      <td>gn</td>\n",
       "      <td>s3://cmip6-pds/CMIP6/HighResMIP/CMCC/CMCC-CM2-...</td>\n",
       "    </tr>\n",
       "    <tr>\n",
       "      <th>3</th>\n",
       "      <td>HighResMIP</td>\n",
       "      <td>CMCC</td>\n",
       "      <td>CMCC-CM2-HR4</td>\n",
       "      <td>highresSST-present</td>\n",
       "      <td>r1i1p1f1</td>\n",
       "      <td>Amon</td>\n",
       "      <td>vas</td>\n",
       "      <td>gn</td>\n",
       "      <td>s3://cmip6-pds/CMIP6/HighResMIP/CMCC/CMCC-CM2-...</td>\n",
       "    </tr>\n",
       "    <tr>\n",
       "      <th>4</th>\n",
       "      <td>HighResMIP</td>\n",
       "      <td>CMCC</td>\n",
       "      <td>CMCC-CM2-HR4</td>\n",
       "      <td>highresSST-present</td>\n",
       "      <td>r1i1p1f1</td>\n",
       "      <td>Amon</td>\n",
       "      <td>tas</td>\n",
       "      <td>gn</td>\n",
       "      <td>s3://cmip6-pds/CMIP6/HighResMIP/CMCC/CMCC-CM2-...</td>\n",
       "    </tr>\n",
       "    <tr>\n",
       "      <th>5</th>\n",
       "      <td>HighResMIP</td>\n",
       "      <td>CMCC</td>\n",
       "      <td>CMCC-CM2-HR4</td>\n",
       "      <td>highresSST-present</td>\n",
       "      <td>r1i1p1f1</td>\n",
       "      <td>Amon</td>\n",
       "      <td>rsut</td>\n",
       "      <td>gn</td>\n",
       "      <td>s3://cmip6-pds/CMIP6/HighResMIP/CMCC/CMCC-CM2-...</td>\n",
       "    </tr>\n",
       "    <tr>\n",
       "      <th>6</th>\n",
       "      <td>HighResMIP</td>\n",
       "      <td>CMCC</td>\n",
       "      <td>CMCC-CM2-HR4</td>\n",
       "      <td>highresSST-present</td>\n",
       "      <td>r1i1p1f1</td>\n",
       "      <td>Amon</td>\n",
       "      <td>rsus</td>\n",
       "      <td>gn</td>\n",
       "      <td>s3://cmip6-pds/CMIP6/HighResMIP/CMCC/CMCC-CM2-...</td>\n",
       "    </tr>\n",
       "    <tr>\n",
       "      <th>7</th>\n",
       "      <td>HighResMIP</td>\n",
       "      <td>CMCC</td>\n",
       "      <td>CMCC-CM2-HR4</td>\n",
       "      <td>highresSST-present</td>\n",
       "      <td>r1i1p1f1</td>\n",
       "      <td>Amon</td>\n",
       "      <td>rsdt</td>\n",
       "      <td>gn</td>\n",
       "      <td>s3://cmip6-pds/CMIP6/HighResMIP/CMCC/CMCC-CM2-...</td>\n",
       "    </tr>\n",
       "    <tr>\n",
       "      <th>8</th>\n",
       "      <td>HighResMIP</td>\n",
       "      <td>CMCC</td>\n",
       "      <td>CMCC-CM2-HR4</td>\n",
       "      <td>highresSST-present</td>\n",
       "      <td>r1i1p1f1</td>\n",
       "      <td>Amon</td>\n",
       "      <td>rsds</td>\n",
       "      <td>gn</td>\n",
       "      <td>s3://cmip6-pds/CMIP6/HighResMIP/CMCC/CMCC-CM2-...</td>\n",
       "    </tr>\n",
       "  </tbody>\n",
       "</table>\n",
       "</div>"
      ],
      "text/plain": [
       "  activity_id institution_id     source_id       experiment_id member_id   \n",
       "0  HighResMIP           CMCC  CMCC-CM2-HR4  highresSST-present  r1i1p1f1  \\\n",
       "1  HighResMIP           CMCC  CMCC-CM2-HR4  highresSST-present  r1i1p1f1   \n",
       "2  HighResMIP           CMCC  CMCC-CM2-HR4  highresSST-present  r1i1p1f1   \n",
       "3  HighResMIP           CMCC  CMCC-CM2-HR4  highresSST-present  r1i1p1f1   \n",
       "4  HighResMIP           CMCC  CMCC-CM2-HR4  highresSST-present  r1i1p1f1   \n",
       "5  HighResMIP           CMCC  CMCC-CM2-HR4  highresSST-present  r1i1p1f1   \n",
       "6  HighResMIP           CMCC  CMCC-CM2-HR4  highresSST-present  r1i1p1f1   \n",
       "7  HighResMIP           CMCC  CMCC-CM2-HR4  highresSST-present  r1i1p1f1   \n",
       "8  HighResMIP           CMCC  CMCC-CM2-HR4  highresSST-present  r1i1p1f1   \n",
       "\n",
       "  table_id variable_id grid_label   \n",
       "0     Amon          ta         gn  \\\n",
       "1     Amon        tauv         gn   \n",
       "2     Amon          zg         gn   \n",
       "3     Amon         vas         gn   \n",
       "4     Amon         tas         gn   \n",
       "5     Amon        rsut         gn   \n",
       "6     Amon        rsus         gn   \n",
       "7     Amon        rsdt         gn   \n",
       "8     Amon        rsds         gn   \n",
       "\n",
       "                                              zstore  \n",
       "0  s3://cmip6-pds/CMIP6/HighResMIP/CMCC/CMCC-CM2-...  \n",
       "1  s3://cmip6-pds/CMIP6/HighResMIP/CMCC/CMCC-CM2-...  \n",
       "2  s3://cmip6-pds/CMIP6/HighResMIP/CMCC/CMCC-CM2-...  \n",
       "3  s3://cmip6-pds/CMIP6/HighResMIP/CMCC/CMCC-CM2-...  \n",
       "4  s3://cmip6-pds/CMIP6/HighResMIP/CMCC/CMCC-CM2-...  \n",
       "5  s3://cmip6-pds/CMIP6/HighResMIP/CMCC/CMCC-CM2-...  \n",
       "6  s3://cmip6-pds/CMIP6/HighResMIP/CMCC/CMCC-CM2-...  \n",
       "7  s3://cmip6-pds/CMIP6/HighResMIP/CMCC/CMCC-CM2-...  \n",
       "8  s3://cmip6-pds/CMIP6/HighResMIP/CMCC/CMCC-CM2-...  "
      ]
     },
     "execution_count": 6,
     "metadata": {},
     "output_type": "execute_result"
    }
   ],
   "source": [
    "aws_cmip6.df.iloc[:9 , :9]"
   ]
  },
  {
   "cell_type": "markdown",
   "id": "7c730533-0e5a-4e0d-9d8b-6cf77c91e63e",
   "metadata": {},
   "source": [
    "While the metadata in each of our intake-esm catalogs may follow a different schema (e.g. the CMIP6 catalogs follow [cmip6 controlled vocabulary](https://pyessv.es-doc.org/1/retrieve/wcrp/cmip6)), all catalogs generally include the same sort of metadata. For example, all catalogs include metadata describing the models used, variables available, temporal frequency etc. These are the metadata we'll include in our intake dataframe catalog."
   ]
  },
  {
   "cell_type": "markdown",
   "id": "fc593047-644c-414d-8ff2-a0f6ef235996",
   "metadata": {},
   "source": [
    "## Initialising a dataframe catalog"
   ]
  },
  {
   "cell_type": "markdown",
   "id": "eb0ac7e8-d89c-4fb2-9026-1bb32cd0a7aa",
   "metadata": {},
   "source": [
    "We'll start by initialising a intake-dataframe-catalog object (`intake_dataframe_catalog.core.DfFileCatalog`):"
   ]
  },
  {
   "cell_type": "code",
   "execution_count": 7,
   "id": "0e1b6100-61ef-4e3f-8854-f83f6bfcfffc",
   "metadata": {},
   "outputs": [],
   "source": [
    "cat = intake.open_df_catalog(path=\"./example_catalog.csv\", mode=\"w\")"
   ]
  },
  {
   "cell_type": "markdown",
   "id": "de370400-526e-424b-a68b-f9297873fbb2",
   "metadata": {},
   "source": [
    "## Adding subcatalogs"
   ]
  },
  {
   "cell_type": "markdown",
   "id": "c94f4877-c3e2-4084-b9ee-70bf4a420641",
   "metadata": {},
   "source": [
    "We can add subcatalogs to the dataframe catalog using the `.add` method. This method takes as arguments the subcatalog to add and the metadata to associate with that subcatalog. Here, we'll add metadata about the model(s) and variable(s). We'll parse this metadata from each intake-esm catalog. The `aws_cesm2_lens` subcatalog comprises only one model and is the simplest to add:"
   ]
  },
  {
   "cell_type": "code",
   "execution_count": 8,
   "id": "2a1141b5-f056-4b2e-8624-c79d9c416bdc",
   "metadata": {},
   "outputs": [
    {
     "data": {
      "text/html": [
       "<p><strong>Intake dataframe catalog with 1 subcatalog(s) across 1 rows</strong>:</p> <div>\n",
       "<style scoped>\n",
       "    .dataframe tbody tr th:only-of-type {\n",
       "        vertical-align: middle;\n",
       "    }\n",
       "\n",
       "    .dataframe tbody tr th {\n",
       "        vertical-align: top;\n",
       "    }\n",
       "\n",
       "    .dataframe thead th {\n",
       "        text-align: right;\n",
       "    }\n",
       "</style>\n",
       "<table border=\"1\" class=\"dataframe\">\n",
       "  <thead>\n",
       "    <tr style=\"text-align: right;\">\n",
       "      <th></th>\n",
       "      <th>model</th>\n",
       "      <th>variable</th>\n",
       "    </tr>\n",
       "    <tr>\n",
       "      <th>name</th>\n",
       "      <th></th>\n",
       "      <th></th>\n",
       "    </tr>\n",
       "  </thead>\n",
       "  <tbody>\n",
       "    <tr>\n",
       "      <th>AWS_CESM2_LENS</th>\n",
       "      <td>{CESM2-LENS}</td>\n",
       "      <td>{V, PRECSL, hi, TREFMXAV, FSNS, TS, ICEFRAC, FSNSC, SHFLX, VVEL, VNT, Z3, FSNO, PRECSC, PD, LHFLX, WVEL, H2OSNO, FLNS, T, RAIN, UVEL, Q, TEMP, TREFHT, SNOW, VNS, SOILWATER_10CM, FLUT, TREFHTMX, na...</td>\n",
       "    </tr>\n",
       "  </tbody>\n",
       "</table>\n",
       "</div>"
      ],
      "text/plain": [
       "<IPython.core.display.HTML object>"
      ]
     },
     "metadata": {},
     "output_type": "display_data"
    }
   ],
   "source": [
    "aws_cesm2_lens.name = \"AWS_CESM2_LENS\"\n",
    "aws_cesm2_lens_model = \"CESM2-LENS\"\n",
    "aws_cesm2_lens_variables = list(\n",
    "    set(\n",
    "        aws_cesm2_lens.df.variable.unique().astype(str)\n",
    "    )\n",
    ")\n",
    "\n",
    "cat.add(\n",
    "    aws_cesm2_lens,\n",
    "    metadata={\"model\": aws_cesm2_lens_model, \"variable\": aws_cesm2_lens_variables}\n",
    ")\n",
    "\n",
    "cat"
   ]
  },
  {
   "cell_type": "markdown",
   "id": "1d4333bb-0d48-4c17-90e5-a5ff9f5bffce",
   "metadata": {},
   "source": [
    "Both the CMIP6 catalogs comprise multiple models. In order to keep track of which variables are available in which model we must add an entry in our dataframe catalog for each model. E.g. for the `aws_cmip6` catalog:"
   ]
  },
  {
   "cell_type": "code",
   "execution_count": 9,
   "id": "fb27db5d-e2ec-45d8-96e0-c9bd79d3c9ca",
   "metadata": {},
   "outputs": [],
   "source": [
    "aws_cmip6.name = \"AWS_CMIP6\"\n",
    "\n",
    "for model in aws_cmip6.df.source_id.unique():\n",
    "    variables = list(\n",
    "        set(\n",
    "            aws_cmip6.df[aws_cmip6.df.source_id == model].variable_id.unique().astype(str)\n",
    "        )\n",
    "    )\n",
    "    cat.add(\n",
    "        aws_cmip6,\n",
    "        metadata={\"model\": model, \"variable\": variables}\n",
    "    )"
   ]
  },
  {
   "cell_type": "markdown",
   "id": "a5329f7a-f0e9-4c79-9f67-2b7c5edb2ba1",
   "metadata": {},
   "source": [
    "And the same for the `google_cmip6` catalog"
   ]
  },
  {
   "cell_type": "code",
   "execution_count": 10,
   "id": "188733e7-6635-4aee-9a2c-f3e5b6096e06",
   "metadata": {},
   "outputs": [],
   "source": [
    "google_cmip6.name = \"GOOGLE_CMIP6\"\n",
    "\n",
    "for model in google_cmip6.df.source_id.unique():\n",
    "    variables = list(\n",
    "        set(\n",
    "            google_cmip6.df[google_cmip6.df.source_id == model].variable_id.unique().astype(str)\n",
    "        )\n",
    "    )\n",
    "    cat.add(\n",
    "        google_cmip6,\n",
    "        metadata={\"model\": model, \"variable\": variables}\n",
    "    )"
   ]
  },
  {
   "cell_type": "markdown",
   "id": "f075dd95-81c3-4111-9d46-0e435f510ec4",
   "metadata": {},
   "source": [
    "Note that even though we added separate rows for each model in each CMIP6 catalog, we see a convenient summary with only one row per subcatalog when we display the dataframe in a Jupyter environment (note, this is displaying the `.df_summary` property)"
   ]
  },
  {
   "cell_type": "code",
   "execution_count": 11,
   "id": "5ea4e7ac-4e5b-4858-88a0-a8950b6cdd6a",
   "metadata": {},
   "outputs": [
    {
     "data": {
      "text/html": [
       "<p><strong>Intake dataframe catalog with 3 subcatalog(s) across 177 rows</strong>:</p> <div>\n",
       "<style scoped>\n",
       "    .dataframe tbody tr th:only-of-type {\n",
       "        vertical-align: middle;\n",
       "    }\n",
       "\n",
       "    .dataframe tbody tr th {\n",
       "        vertical-align: top;\n",
       "    }\n",
       "\n",
       "    .dataframe thead th {\n",
       "        text-align: right;\n",
       "    }\n",
       "</style>\n",
       "<table border=\"1\" class=\"dataframe\">\n",
       "  <thead>\n",
       "    <tr style=\"text-align: right;\">\n",
       "      <th></th>\n",
       "      <th>model</th>\n",
       "      <th>variable</th>\n",
       "    </tr>\n",
       "    <tr>\n",
       "      <th>name</th>\n",
       "      <th></th>\n",
       "      <th></th>\n",
       "    </tr>\n",
       "  </thead>\n",
       "  <tbody>\n",
       "    <tr>\n",
       "      <th>AWS_CESM2_LENS</th>\n",
       "      <td>{CESM2-LENS}</td>\n",
       "      <td>{V, PRECSL, hi, TREFMXAV, FSNS, TS, ICEFRAC, FSNSC, SHFLX, VVEL, VNT, Z3, FSNO, PRECSC, PD, LHFLX, WVEL, H2OSNO, FLNS, T, RAIN, UVEL, Q, TEMP, TREFHT, SNOW, VNS, SOILWATER_10CM, FLUT, TREFHTMX, na...</td>\n",
       "    </tr>\n",
       "    <tr>\n",
       "      <th>AWS_CMIP6</th>\n",
       "      <td>{CESM2-WACCM, MPI-ESM1-2-XR, CMCC-CM2-SR5, BCC-ESM1, GISS-E2-2-H, IPSL-CM5A2-INCA, CNRM-ESM2-1, MPI-ESM1-2-HR, AWI-ESM-1-1-LR, NorESM2-MM, KIOST-ESM, IPSL-CM6A-LR, MIROC6, E3SM-1-0, MPI-ESM-1-2-HA...</td>\n",
       "      <td>{pastureFrac, cltmodis, co3satcalcos, tntrscs, co23D, prw, tauu, fediss, epcalc100, rss, airmass, epn100, pbfe, obvfsq, sfno2, rsus, wo, chlmiscos, hcl, parag, siflsensupbot, cllcalipso, tntrs, zm...</td>\n",
       "    </tr>\n",
       "    <tr>\n",
       "      <th>GOOGLE_CMIP6</th>\n",
       "      <td>{CESM2-WACCM, MPI-ESM1-2-XR, CMCC-CM2-SR5, BCC-ESM1, GISS-E2-2-H, IPSL-CM5A2-INCA, CNRM-ESM2-1, MPI-ESM1-2-HR, AWI-ESM-1-1-LR, NorESM2-MM, KIOST-ESM, IPSL-CM6A-LR, MIROC6, E3SM-1-0, MPI-ESM-1-2-HA...</td>\n",
       "      <td>{pastureFrac, cltmodis, co3satcalcos, tntrscs, co23D, prw, tauu, fediss, epcalc100, rss, airmass, epn100, pbfe, obvfsq, sfno2, rsus, wo, chlmiscos, hcl, parag, cllcalipso, tntrs, zmesoos, rtmt, ch...</td>\n",
       "    </tr>\n",
       "  </tbody>\n",
       "</table>\n",
       "</div>"
      ],
      "text/plain": [
       "<IPython.core.display.HTML object>"
      ]
     },
     "metadata": {},
     "output_type": "display_data"
    }
   ],
   "source": [
    "cat"
   ]
  },
  {
   "cell_type": "markdown",
   "id": "f94e6eda-60d1-40a8-87a9-a96ae18bb9bb",
   "metadata": {},
   "source": [
    "Passing `overwrite=True` to `.add` will overwrite any existing entries with the same name"
   ]
  },
  {
   "cell_type": "code",
   "execution_count": 12,
   "id": "570c05c6-a2ce-4a9e-b299-9db886933c22",
   "metadata": {},
   "outputs": [
    {
     "data": {
      "text/html": [
       "<p><strong>Intake dataframe catalog with 3 subcatalog(s) across 177 rows</strong>:</p> <div>\n",
       "<style scoped>\n",
       "    .dataframe tbody tr th:only-of-type {\n",
       "        vertical-align: middle;\n",
       "    }\n",
       "\n",
       "    .dataframe tbody tr th {\n",
       "        vertical-align: top;\n",
       "    }\n",
       "\n",
       "    .dataframe thead th {\n",
       "        text-align: right;\n",
       "    }\n",
       "</style>\n",
       "<table border=\"1\" class=\"dataframe\">\n",
       "  <thead>\n",
       "    <tr style=\"text-align: right;\">\n",
       "      <th></th>\n",
       "      <th>model</th>\n",
       "      <th>variable</th>\n",
       "    </tr>\n",
       "    <tr>\n",
       "      <th>name</th>\n",
       "      <th></th>\n",
       "      <th></th>\n",
       "    </tr>\n",
       "  </thead>\n",
       "  <tbody>\n",
       "    <tr>\n",
       "      <th>AWS_CESM2_LENS</th>\n",
       "      <td>{CESM2-LENS}</td>\n",
       "      <td>{V, PRECSL, hi, TREFMXAV, FSNS, TS, ICEFRAC, FSNSC, SHFLX, VVEL, VNT, Z3, FSNO, PRECSC, PD, LHFLX, WVEL, H2OSNO, FLNS, T, RAIN, UVEL, Q, TEMP, TREFHT, SNOW, VNS, SOILWATER_10CM, FLUT, TREFHTMX, na...</td>\n",
       "    </tr>\n",
       "    <tr>\n",
       "      <th>AWS_CMIP6</th>\n",
       "      <td>{CESM2-WACCM, MPI-ESM1-2-XR, CMCC-CM2-SR5, BCC-ESM1, GISS-E2-2-H, IPSL-CM5A2-INCA, CNRM-ESM2-1, MPI-ESM1-2-HR, AWI-ESM-1-1-LR, NorESM2-MM, KIOST-ESM, IPSL-CM6A-LR, MIROC6, E3SM-1-0, MPI-ESM-1-2-HA...</td>\n",
       "      <td>{pastureFrac, cltmodis, co3satcalcos, tntrscs, co23D, prw, tauu, fediss, epcalc100, rss, airmass, epn100, pbfe, obvfsq, sfno2, rsus, wo, chlmiscos, hcl, parag, siflsensupbot, cllcalipso, tntrs, zm...</td>\n",
       "    </tr>\n",
       "    <tr>\n",
       "      <th>GOOGLE_CMIP6</th>\n",
       "      <td>{CESM2-WACCM, MPI-ESM1-2-XR, CMCC-CM2-SR5, BCC-ESM1, GISS-E2-2-H, IPSL-CM5A2-INCA, CNRM-ESM2-1, MPI-ESM1-2-HR, AWI-ESM-1-1-LR, NorESM2-MM, KIOST-ESM, IPSL-CM6A-LR, MIROC6, E3SM-1-0, MPI-ESM-1-2-HA...</td>\n",
       "      <td>{pastureFrac, cltmodis, co3satcalcos, tntrscs, co23D, prw, tauu, fediss, epcalc100, rss, airmass, epn100, pbfe, obvfsq, sfno2, rsus, wo, chlmiscos, hcl, parag, cllcalipso, tntrs, zmesoos, rtmt, ch...</td>\n",
       "    </tr>\n",
       "  </tbody>\n",
       "</table>\n",
       "</div>"
      ],
      "text/plain": [
       "<IPython.core.display.HTML object>"
      ]
     },
     "metadata": {},
     "output_type": "display_data"
    }
   ],
   "source": [
    "cat.add(\n",
    "    aws_cesm2_lens,\n",
    "    metadata={\n",
    "        \"model\": aws_cesm2_lens_model, \n",
    "        \"variable\": aws_cesm2_lens_variables\n",
    "    },\n",
    "    overwrite=True\n",
    "    )\n",
    "\n",
    "cat"
   ]
  },
  {
   "cell_type": "markdown",
   "id": "5e193749-2953-434a-81a5-23704a7407b4",
   "metadata": {},
   "source": [
    "## Saving a dataframe catalog"
   ]
  },
  {
   "cell_type": "markdown",
   "id": "4bd57c50-10be-47c9-a2a4-07e2f13ccfc3",
   "metadata": {},
   "source": [
    "Once we're happy with the subcatalogs we have in our dataframe catalog, we can save it using the `.save` method."
   ]
  },
  {
   "cell_type": "code",
   "execution_count": 13,
   "id": "862b81f2-a4c1-4cca-b003-007b4125f699",
   "metadata": {},
   "outputs": [],
   "source": [
    "cat.save()"
   ]
  },
  {
   "cell_type": "markdown",
   "id": "31d05c5d-2560-4f2c-939e-f1fc8d012a82",
   "metadata": {},
   "source": [
    "## Loading a dataframe catalog\n",
    "\n",
    "When reading existing catalogs, it's good practice to use `mode=\"r\"` (default) to avoid accidentally overwriting the catalog."
   ]
  },
  {
   "cell_type": "code",
   "execution_count": 14,
   "id": "0a0ab807-d5b7-4de0-abdd-705dda432003",
   "metadata": {},
   "outputs": [],
   "source": [
    "cat = intake.open_df_catalog(\n",
    "    path=\"./example_catalog.csv\",\n",
    "    columns_with_iterables=[\"variable\"],\n",
    ")"
   ]
  },
  {
   "cell_type": "markdown",
   "id": "d2bd1ff8-dd81-4bc9-a185-c585cc502699",
   "metadata": {},
   "source": [
    "## Searching in a dataframe catalog"
   ]
  },
  {
   "cell_type": "markdown",
   "id": "25cd3495-93e2-491c-9351-f357904dec1d",
   "metadata": {},
   "source": [
    "We can use the `.search` method to find subcatalogs that satisfy metadata queries:"
   ]
  },
  {
   "cell_type": "code",
   "execution_count": 15,
   "id": "f07fa7b7-5dc1-4c5e-a9e5-3d0a56b56dbe",
   "metadata": {},
   "outputs": [
    {
     "data": {
      "text/html": [
       "<p><strong>Intake dataframe catalog with 2 subcatalog(s) across 2 rows</strong>:</p> <div>\n",
       "<style scoped>\n",
       "    .dataframe tbody tr th:only-of-type {\n",
       "        vertical-align: middle;\n",
       "    }\n",
       "\n",
       "    .dataframe tbody tr th {\n",
       "        vertical-align: top;\n",
       "    }\n",
       "\n",
       "    .dataframe thead th {\n",
       "        text-align: right;\n",
       "    }\n",
       "</style>\n",
       "<table border=\"1\" class=\"dataframe\">\n",
       "  <thead>\n",
       "    <tr style=\"text-align: right;\">\n",
       "      <th></th>\n",
       "      <th>model</th>\n",
       "      <th>variable</th>\n",
       "    </tr>\n",
       "    <tr>\n",
       "      <th>name</th>\n",
       "      <th></th>\n",
       "      <th></th>\n",
       "    </tr>\n",
       "  </thead>\n",
       "  <tbody>\n",
       "    <tr>\n",
       "      <th>AWS_CMIP6</th>\n",
       "      <td>{CanESM5}</td>\n",
       "      <td>{cct, phycos, tos, evspsblveg, somint, intpp, npp, prw, tauu, cSoil, epcalc100, rsut, epn100, sos, obvfsq, epc100, no3, wo, rsus, simass, mrsos, epfy, clw, rlutcs, rtmt, fgco2nat, zos, detoc, sf6,...</td>\n",
       "    </tr>\n",
       "    <tr>\n",
       "      <th>GOOGLE_CMIP6</th>\n",
       "      <td>{CanESM5}</td>\n",
       "      <td>{cct, phycos, tos, evspsblveg, somint, intpp, npp, cSoil, tauu, prw, epcalc100, rsut, epn100, sos, obvfsq, epc100, no3, rsus, wo, simass, mrsos, epfy, clw, rlutcs, rtmt, fgco2nat, detoc, zos, sf6,...</td>\n",
       "    </tr>\n",
       "  </tbody>\n",
       "</table>\n",
       "</div>"
      ],
      "text/plain": [
       "<IPython.core.display.HTML object>"
      ]
     },
     "metadata": {},
     "output_type": "display_data"
    }
   ],
   "source": [
    "new_cat = cat.search(model=\"CanESM5\")\n",
    "\n",
    "new_cat"
   ]
  },
  {
   "cell_type": "markdown",
   "id": "f61786aa-e2db-46d0-929a-d044ec87b5eb",
   "metadata": {},
   "source": [
    "We can combine queries for more complex searches"
   ]
  },
  {
   "cell_type": "code",
   "execution_count": 16,
   "id": "a97518ae-7a34-4218-aa1d-9b2601f0037c",
   "metadata": {},
   "outputs": [
    {
     "data": {
      "text/html": [
       "<p><strong>Intake dataframe catalog with 2 subcatalog(s) across 2 rows</strong>:</p> <div>\n",
       "<style scoped>\n",
       "    .dataframe tbody tr th:only-of-type {\n",
       "        vertical-align: middle;\n",
       "    }\n",
       "\n",
       "    .dataframe tbody tr th {\n",
       "        vertical-align: top;\n",
       "    }\n",
       "\n",
       "    .dataframe thead th {\n",
       "        text-align: right;\n",
       "    }\n",
       "</style>\n",
       "<table border=\"1\" class=\"dataframe\">\n",
       "  <thead>\n",
       "    <tr style=\"text-align: right;\">\n",
       "      <th></th>\n",
       "      <th>model</th>\n",
       "      <th>variable</th>\n",
       "    </tr>\n",
       "    <tr>\n",
       "      <th>name</th>\n",
       "      <th></th>\n",
       "      <th></th>\n",
       "    </tr>\n",
       "  </thead>\n",
       "  <tbody>\n",
       "    <tr>\n",
       "      <th>AWS_CMIP6</th>\n",
       "      <td>{CanESM5}</td>\n",
       "      <td>{thetao, msftmzmpa}</td>\n",
       "    </tr>\n",
       "    <tr>\n",
       "      <th>GOOGLE_CMIP6</th>\n",
       "      <td>{CanESM5}</td>\n",
       "      <td>{thetao}</td>\n",
       "    </tr>\n",
       "  </tbody>\n",
       "</table>\n",
       "</div>"
      ],
      "text/plain": [
       "<IPython.core.display.HTML object>"
      ]
     },
     "metadata": {},
     "output_type": "display_data"
    }
   ],
   "source": [
    "new_cat = cat.search(model=\"CanESM5\", variable=[\"thetao\", \"msftmzmpa\"])\n",
    "\n",
    "new_cat"
   ]
  },
  {
   "cell_type": "markdown",
   "id": "6f2c3319-a723-4dca-abe2-60fca0821d3c",
   "metadata": {},
   "source": [
    "By deafult, querying on a list as above returns subcatalogs that match on any of the values in the list. The `.search` method also has an optional `require_all` argument. If this is set to `True`, returned subcatalogs satisfy all the query criteria."
   ]
  },
  {
   "cell_type": "code",
   "execution_count": 17,
   "id": "75eb4461-9d2b-4b96-bf16-a445e4c9ed90",
   "metadata": {},
   "outputs": [
    {
     "data": {
      "text/html": [
       "<p><strong>Intake dataframe catalog with 1 subcatalog(s) across 1 rows</strong>:</p> <div>\n",
       "<style scoped>\n",
       "    .dataframe tbody tr th:only-of-type {\n",
       "        vertical-align: middle;\n",
       "    }\n",
       "\n",
       "    .dataframe tbody tr th {\n",
       "        vertical-align: top;\n",
       "    }\n",
       "\n",
       "    .dataframe thead th {\n",
       "        text-align: right;\n",
       "    }\n",
       "</style>\n",
       "<table border=\"1\" class=\"dataframe\">\n",
       "  <thead>\n",
       "    <tr style=\"text-align: right;\">\n",
       "      <th></th>\n",
       "      <th>model</th>\n",
       "      <th>variable</th>\n",
       "    </tr>\n",
       "    <tr>\n",
       "      <th>name</th>\n",
       "      <th></th>\n",
       "      <th></th>\n",
       "    </tr>\n",
       "  </thead>\n",
       "  <tbody>\n",
       "    <tr>\n",
       "      <th>AWS_CMIP6</th>\n",
       "      <td>{CanESM5}</td>\n",
       "      <td>{thetao, msftmzmpa}</td>\n",
       "    </tr>\n",
       "  </tbody>\n",
       "</table>\n",
       "</div>"
      ],
      "text/plain": [
       "<IPython.core.display.HTML object>"
      ]
     },
     "metadata": {},
     "output_type": "display_data"
    }
   ],
   "source": [
    "new_cat = cat.search(model=\"CanESM5\", variable=[\"thetao\", \"msftmzmpa\"], require_all=True)\n",
    "\n",
    "new_cat"
   ]
  },
  {
   "cell_type": "markdown",
   "id": "6d383180-05f1-4fee-87a6-1c480f5ef9df",
   "metadata": {},
   "source": [
    "Regex expressions can also be used in queries. For example, below we search for subcatalogs with variables containing word letter \"Fire\". We can see that only one model (GFDL-ESM4) in each of the CMIP6 catalogs contains variables matching this criteria."
   ]
  },
  {
   "cell_type": "code",
   "execution_count": 18,
   "id": "5397373f-22ee-44bf-8315-dda8188ab3c3",
   "metadata": {},
   "outputs": [
    {
     "data": {
      "text/html": [
       "<p><strong>Intake dataframe catalog with 2 subcatalog(s) across 2 rows</strong>:</p> <div>\n",
       "<style scoped>\n",
       "    .dataframe tbody tr th:only-of-type {\n",
       "        vertical-align: middle;\n",
       "    }\n",
       "\n",
       "    .dataframe tbody tr th {\n",
       "        vertical-align: top;\n",
       "    }\n",
       "\n",
       "    .dataframe thead th {\n",
       "        text-align: right;\n",
       "    }\n",
       "</style>\n",
       "<table border=\"1\" class=\"dataframe\">\n",
       "  <thead>\n",
       "    <tr style=\"text-align: right;\">\n",
       "      <th></th>\n",
       "      <th>model</th>\n",
       "      <th>variable</th>\n",
       "    </tr>\n",
       "    <tr>\n",
       "      <th>name</th>\n",
       "      <th></th>\n",
       "      <th></th>\n",
       "    </tr>\n",
       "  </thead>\n",
       "  <tbody>\n",
       "    <tr>\n",
       "      <th>AWS_CMIP6</th>\n",
       "      <td>{GFDL-ESM4}</td>\n",
       "      <td>{fFireNat, fFire}</td>\n",
       "    </tr>\n",
       "    <tr>\n",
       "      <th>GOOGLE_CMIP6</th>\n",
       "      <td>{GFDL-ESM4}</td>\n",
       "      <td>{fFireNat, fFire}</td>\n",
       "    </tr>\n",
       "  </tbody>\n",
       "</table>\n",
       "</div>"
      ],
      "text/plain": [
       "<IPython.core.display.HTML object>"
      ]
     },
     "metadata": {},
     "output_type": "display_data"
    }
   ],
   "source": [
    "new_cat = cat.search(variable=\".*Fire.*\")\n",
    "\n",
    "new_cat"
   ]
  },
  {
   "cell_type": "markdown",
   "id": "29b72809-7c00-41b1-8296-c133a8326daa",
   "metadata": {},
   "source": [
    "## Loading subcatalogs"
   ]
  },
  {
   "cell_type": "markdown",
   "id": "839e2d38-da7b-43ae-9040-ba7f85fa2f86",
   "metadata": {},
   "source": [
    "There are a few options for loading subcatalogs. We can load individual catalogs if we know their name:"
   ]
  },
  {
   "cell_type": "code",
   "execution_count": 19,
   "id": "3b67e545-0d9c-4aaf-be2f-219d38123f8c",
   "metadata": {},
   "outputs": [
    {
     "data": {
      "text/html": [
       "<p><strong>aws-cesm2-le catalog with 40 dataset(s) from 322 asset(s)</strong>:</p> <div>\n",
       "<style scoped>\n",
       "    .dataframe tbody tr th:only-of-type {\n",
       "        vertical-align: middle;\n",
       "    }\n",
       "\n",
       "    .dataframe tbody tr th {\n",
       "        vertical-align: top;\n",
       "    }\n",
       "\n",
       "    .dataframe thead th {\n",
       "        text-align: right;\n",
       "    }\n",
       "</style>\n",
       "<table border=\"1\" class=\"dataframe\">\n",
       "  <thead>\n",
       "    <tr style=\"text-align: right;\">\n",
       "      <th></th>\n",
       "      <th>unique</th>\n",
       "    </tr>\n",
       "  </thead>\n",
       "  <tbody>\n",
       "    <tr>\n",
       "      <th>variable</th>\n",
       "      <td>53</td>\n",
       "    </tr>\n",
       "    <tr>\n",
       "      <th>long_name</th>\n",
       "      <td>51</td>\n",
       "    </tr>\n",
       "    <tr>\n",
       "      <th>component</th>\n",
       "      <td>4</td>\n",
       "    </tr>\n",
       "    <tr>\n",
       "      <th>experiment</th>\n",
       "      <td>2</td>\n",
       "    </tr>\n",
       "    <tr>\n",
       "      <th>...</th>\n",
       "      <td>...</td>\n",
       "    </tr>\n",
       "    <tr>\n",
       "      <th>start_time</th>\n",
       "      <td>4</td>\n",
       "    </tr>\n",
       "    <tr>\n",
       "      <th>end_time</th>\n",
       "      <td>7</td>\n",
       "    </tr>\n",
       "    <tr>\n",
       "      <th>path</th>\n",
       "      <td>313</td>\n",
       "    </tr>\n",
       "    <tr>\n",
       "      <th>derived_variable</th>\n",
       "      <td>0</td>\n",
       "    </tr>\n",
       "  </tbody>\n",
       "</table>\n",
       "<p>13 rows × 1 columns</p>\n",
       "</div>"
      ],
      "text/plain": [
       "<IPython.core.display.HTML object>"
      ]
     },
     "metadata": {},
     "output_type": "display_data"
    }
   ],
   "source": [
    "cat[\"AWS_CESM2_LENS\"] # This is the aws_cesm2_lens intake-esm catalog"
   ]
  },
  {
   "cell_type": "markdown",
   "id": "3c0ffb21-3b49-46ee-9931-a188bf9a8da3",
   "metadata": {},
   "source": [
    "Or"
   ]
  },
  {
   "cell_type": "code",
   "execution_count": 20,
   "id": "cd93fdc5-6166-4103-b271-5c42593bd489",
   "metadata": {},
   "outputs": [
    {
     "data": {
      "text/html": [
       "<p><strong>aws-cesm2-le catalog with 40 dataset(s) from 322 asset(s)</strong>:</p> <div>\n",
       "<style scoped>\n",
       "    .dataframe tbody tr th:only-of-type {\n",
       "        vertical-align: middle;\n",
       "    }\n",
       "\n",
       "    .dataframe tbody tr th {\n",
       "        vertical-align: top;\n",
       "    }\n",
       "\n",
       "    .dataframe thead th {\n",
       "        text-align: right;\n",
       "    }\n",
       "</style>\n",
       "<table border=\"1\" class=\"dataframe\">\n",
       "  <thead>\n",
       "    <tr style=\"text-align: right;\">\n",
       "      <th></th>\n",
       "      <th>unique</th>\n",
       "    </tr>\n",
       "  </thead>\n",
       "  <tbody>\n",
       "    <tr>\n",
       "      <th>variable</th>\n",
       "      <td>53</td>\n",
       "    </tr>\n",
       "    <tr>\n",
       "      <th>long_name</th>\n",
       "      <td>51</td>\n",
       "    </tr>\n",
       "    <tr>\n",
       "      <th>component</th>\n",
       "      <td>4</td>\n",
       "    </tr>\n",
       "    <tr>\n",
       "      <th>experiment</th>\n",
       "      <td>2</td>\n",
       "    </tr>\n",
       "    <tr>\n",
       "      <th>...</th>\n",
       "      <td>...</td>\n",
       "    </tr>\n",
       "    <tr>\n",
       "      <th>start_time</th>\n",
       "      <td>4</td>\n",
       "    </tr>\n",
       "    <tr>\n",
       "      <th>end_time</th>\n",
       "      <td>7</td>\n",
       "    </tr>\n",
       "    <tr>\n",
       "      <th>path</th>\n",
       "      <td>313</td>\n",
       "    </tr>\n",
       "    <tr>\n",
       "      <th>derived_variable</th>\n",
       "      <td>0</td>\n",
       "    </tr>\n",
       "  </tbody>\n",
       "</table>\n",
       "<p>13 rows × 1 columns</p>\n",
       "</div>"
      ],
      "text/plain": [
       "<IPython.core.display.HTML object>"
      ]
     },
     "metadata": {},
     "output_type": "display_data"
    }
   ],
   "source": [
    "cat.AWS_CESM2_LENS"
   ]
  },
  {
   "cell_type": "markdown",
   "id": "668d133b-e8fb-41ca-80cf-db49627d4c43",
   "metadata": {},
   "source": [
    "Alternatively, there are `.to_subcatalog` and `.to_subcatalog_dict` methods. The former only works when there is only one subcatalog remaining in the dataframe catalog (e.g. after preforming `.search` operations). The latter loads all subcatalogs into a dictionary with the corresponding subcatalog names as keys."
   ]
  },
  {
   "cell_type": "code",
   "execution_count": 21,
   "id": "c9ebcaa2-061f-481a-945a-5ac63ac3fe83",
   "metadata": {},
   "outputs": [
    {
     "data": {
      "text/html": [
       "<p><strong>aws-cesm2-le catalog with 40 dataset(s) from 322 asset(s)</strong>:</p> <div>\n",
       "<style scoped>\n",
       "    .dataframe tbody tr th:only-of-type {\n",
       "        vertical-align: middle;\n",
       "    }\n",
       "\n",
       "    .dataframe tbody tr th {\n",
       "        vertical-align: top;\n",
       "    }\n",
       "\n",
       "    .dataframe thead th {\n",
       "        text-align: right;\n",
       "    }\n",
       "</style>\n",
       "<table border=\"1\" class=\"dataframe\">\n",
       "  <thead>\n",
       "    <tr style=\"text-align: right;\">\n",
       "      <th></th>\n",
       "      <th>unique</th>\n",
       "    </tr>\n",
       "  </thead>\n",
       "  <tbody>\n",
       "    <tr>\n",
       "      <th>variable</th>\n",
       "      <td>53</td>\n",
       "    </tr>\n",
       "    <tr>\n",
       "      <th>long_name</th>\n",
       "      <td>51</td>\n",
       "    </tr>\n",
       "    <tr>\n",
       "      <th>component</th>\n",
       "      <td>4</td>\n",
       "    </tr>\n",
       "    <tr>\n",
       "      <th>experiment</th>\n",
       "      <td>2</td>\n",
       "    </tr>\n",
       "    <tr>\n",
       "      <th>...</th>\n",
       "      <td>...</td>\n",
       "    </tr>\n",
       "    <tr>\n",
       "      <th>start_time</th>\n",
       "      <td>4</td>\n",
       "    </tr>\n",
       "    <tr>\n",
       "      <th>end_time</th>\n",
       "      <td>7</td>\n",
       "    </tr>\n",
       "    <tr>\n",
       "      <th>path</th>\n",
       "      <td>313</td>\n",
       "    </tr>\n",
       "    <tr>\n",
       "      <th>derived_variable</th>\n",
       "      <td>0</td>\n",
       "    </tr>\n",
       "  </tbody>\n",
       "</table>\n",
       "<p>13 rows × 1 columns</p>\n",
       "</div>"
      ],
      "text/plain": [
       "<IPython.core.display.HTML object>"
      ]
     },
     "metadata": {},
     "output_type": "display_data"
    }
   ],
   "source": [
    "subcat = cat.search(variable=\"TEMP\").to_subcatalog()\n",
    "\n",
    "subcat"
   ]
  },
  {
   "cell_type": "code",
   "execution_count": 22,
   "id": "21768b62-ff83-4e90-bb8d-98fd9c8fff06",
   "metadata": {},
   "outputs": [
    {
     "data": {
      "text/plain": [
       "{'AWS_CESM2_LENS': <aws-cesm2-le catalog with 40 dataset(s) from 322 asset(s)>,\n",
       " 'GOOGLE_CMIP6': <pangeo-cmip6 catalog with 7674 dataset(s) from 514818 asset(s)>,\n",
       " 'AWS_CMIP6': <pangeo-cmip6 catalog with 7780 dataset(s) from 522217 asset(s)>}"
      ]
     },
     "execution_count": 22,
     "metadata": {},
     "output_type": "execute_result"
    }
   ],
   "source": [
    "subcat_dict = cat.to_subcatalog_dict()\n",
    "\n",
    "subcat_dict"
   ]
  },
  {
   "cell_type": "markdown",
   "id": "ab8024ab-e02d-4c6c-aea6-5eaefa5750c8",
   "metadata": {},
   "source": [
    "Once subcatalogs are loaded, we can access data in the normal way for that intake source type (e.g. see the [intake-esm documentation](https://intake-esm.readthedocs.io/en/latest/index.html) for how to use intake-esm catalogs like the one's we've using in this demonstration."
   ]
  }
 ],
 "metadata": {
  "kernelspec": {
   "display_name": "Python 3 (ipykernel)",
   "language": "python",
   "name": "python3"
  },
  "language_info": {
   "codemirror_mode": {
    "name": "ipython",
    "version": 3
   },
   "file_extension": ".py",
   "mimetype": "text/x-python",
   "name": "python",
   "nbconvert_exporter": "python",
   "pygments_lexer": "ipython3",
   "version": "3.10.10"
  }
 },
 "nbformat": 4,
 "nbformat_minor": 5
}
